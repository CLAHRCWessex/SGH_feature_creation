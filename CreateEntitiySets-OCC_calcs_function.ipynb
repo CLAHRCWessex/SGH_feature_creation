{
 "cells": [
  {
   "cell_type": "markdown",
   "metadata": {},
   "source": [
    "# Apply FT"
   ]
  },
  {
   "cell_type": "code",
   "execution_count": 1,
   "metadata": {},
   "outputs": [],
   "source": [
    "#%cd ./flosp\n",
    "import pandas as pd\n",
    "import numpy as np\n",
    "import seaborn as sns\n",
    "import featuretools as ft\n",
    "#import flosp\n",
    "#import bradlib as bl\n",
    "sns.set()\n",
    "\n",
    "from core import create_timeseries_from_events, make_callender_columns"
   ]
  },
  {
   "cell_type": "markdown",
   "metadata": {},
   "source": [
    "# get data"
   ]
  },
  {
   "cell_type": "code",
   "execution_count": 2,
   "metadata": {},
   "outputs": [],
   "source": [
    "data = ft.demo.load_mock_customer()"
   ]
  },
  {
   "cell_type": "code",
   "execution_count": 3,
   "metadata": {},
   "outputs": [],
   "source": [
    "transactions_df = data[\"transactions\"].merge(data[\"sessions\"]).merge(data[\"customers\"])"
   ]
  },
  {
   "cell_type": "code",
   "execution_count": 4,
   "metadata": {},
   "outputs": [],
   "source": [
    "transactions_df['arrive_dt'] = transactions_df['transaction_time']\n",
    "transactions_df['depart_dt'] = transactions_df['transaction_time'] + pd.Timedelta(2,'h')"
   ]
  },
  {
   "cell_type": "code",
   "execution_count": 5,
   "metadata": {},
   "outputs": [],
   "source": [
    "transactions_df['date_hour'] = transactions_df.arrive_dt.apply(lambda x : x.replace(second=0,minute=0) )"
   ]
  },
  {
   "cell_type": "markdown",
   "metadata": {},
   "source": [
    "#### make es"
   ]
  },
  {
   "cell_type": "code",
   "execution_count": 8,
   "metadata": {},
   "outputs": [
    {
     "data": {
      "text/html": [
       "<div>\n",
       "<style scoped>\n",
       "    .dataframe tbody tr th:only-of-type {\n",
       "        vertical-align: middle;\n",
       "    }\n",
       "\n",
       "    .dataframe tbody tr th {\n",
       "        vertical-align: top;\n",
       "    }\n",
       "\n",
       "    .dataframe thead th {\n",
       "        text-align: right;\n",
       "    }\n",
       "</style>\n",
       "<table border=\"1\" class=\"dataframe\">\n",
       "  <thead>\n",
       "    <tr style=\"text-align: right;\">\n",
       "      <th></th>\n",
       "      <th>transaction_id</th>\n",
       "      <th>session_id</th>\n",
       "      <th>transaction_time</th>\n",
       "      <th>product_id</th>\n",
       "      <th>amount</th>\n",
       "      <th>customer_id</th>\n",
       "      <th>device</th>\n",
       "      <th>session_start</th>\n",
       "      <th>zip_code</th>\n",
       "      <th>join_date</th>\n",
       "      <th>arrive_dt</th>\n",
       "      <th>depart_dt</th>\n",
       "      <th>date_hour</th>\n",
       "    </tr>\n",
       "  </thead>\n",
       "  <tbody>\n",
       "    <tr>\n",
       "      <th>0</th>\n",
       "      <td>352</td>\n",
       "      <td>1</td>\n",
       "      <td>2014-01-01 00:00:00</td>\n",
       "      <td>4</td>\n",
       "      <td>7.39</td>\n",
       "      <td>1</td>\n",
       "      <td>desktop</td>\n",
       "      <td>2014-01-01</td>\n",
       "      <td>60091</td>\n",
       "      <td>2008-01-01</td>\n",
       "      <td>2014-01-01 00:00:00</td>\n",
       "      <td>2014-01-01 02:00:00</td>\n",
       "      <td>2014-01-01</td>\n",
       "    </tr>\n",
       "    <tr>\n",
       "      <th>1</th>\n",
       "      <td>186</td>\n",
       "      <td>1</td>\n",
       "      <td>2014-01-01 00:01:05</td>\n",
       "      <td>4</td>\n",
       "      <td>147.23</td>\n",
       "      <td>1</td>\n",
       "      <td>desktop</td>\n",
       "      <td>2014-01-01</td>\n",
       "      <td>60091</td>\n",
       "      <td>2008-01-01</td>\n",
       "      <td>2014-01-01 00:01:05</td>\n",
       "      <td>2014-01-01 02:01:05</td>\n",
       "      <td>2014-01-01</td>\n",
       "    </tr>\n",
       "  </tbody>\n",
       "</table>\n",
       "</div>"
      ],
      "text/plain": [
       "   transaction_id  session_id    transaction_time product_id  amount  \\\n",
       "0             352           1 2014-01-01 00:00:00          4    7.39   \n",
       "1             186           1 2014-01-01 00:01:05          4  147.23   \n",
       "\n",
       "   customer_id   device session_start zip_code  join_date           arrive_dt  \\\n",
       "0            1  desktop    2014-01-01    60091 2008-01-01 2014-01-01 00:00:00   \n",
       "1            1  desktop    2014-01-01    60091 2008-01-01 2014-01-01 00:01:05   \n",
       "\n",
       "            depart_dt  date_hour  \n",
       "0 2014-01-01 02:00:00 2014-01-01  \n",
       "1 2014-01-01 02:01:05 2014-01-01  "
      ]
     },
     "execution_count": 8,
     "metadata": {},
     "output_type": "execute_result"
    }
   ],
   "source": [
    "transactions_df.head(2)"
   ]
  },
  {
   "cell_type": "code",
   "execution_count": 6,
   "metadata": {},
   "outputs": [],
   "source": [
    "es = ft.EntitySet(id='activity')"
   ]
  },
  {
   "cell_type": "code",
   "execution_count": 19,
   "metadata": {},
   "outputs": [],
   "source": [
    "es = es.entity_from_dataframe(entity_id='transactions',\n",
    "                        dataframe=transactions_df,\n",
    "                        index='transaction_id',\n",
    "                        time_index='transaction_time',\n",
    "                              secondary_time_index={'depart_dt':['amount']}\n",
    "                             )"
   ]
  },
  {
   "cell_type": "code",
   "execution_count": 20,
   "metadata": {},
   "outputs": [
    {
     "data": {
      "text/html": [
       "<div>\n",
       "<style scoped>\n",
       "    .dataframe tbody tr th:only-of-type {\n",
       "        vertical-align: middle;\n",
       "    }\n",
       "\n",
       "    .dataframe tbody tr th {\n",
       "        vertical-align: top;\n",
       "    }\n",
       "\n",
       "    .dataframe thead th {\n",
       "        text-align: right;\n",
       "    }\n",
       "</style>\n",
       "<table border=\"1\" class=\"dataframe\">\n",
       "  <thead>\n",
       "    <tr style=\"text-align: right;\">\n",
       "      <th></th>\n",
       "      <th>transaction_id</th>\n",
       "      <th>session_id</th>\n",
       "      <th>transaction_time</th>\n",
       "      <th>amount</th>\n",
       "      <th>customer_id</th>\n",
       "      <th>device</th>\n",
       "      <th>session_start</th>\n",
       "      <th>zip_code</th>\n",
       "      <th>join_date</th>\n",
       "      <th>arrive_dt</th>\n",
       "      <th>depart_dt</th>\n",
       "      <th>date_hour</th>\n",
       "      <th>product_id</th>\n",
       "    </tr>\n",
       "  </thead>\n",
       "  <tbody>\n",
       "    <tr>\n",
       "      <th>352</th>\n",
       "      <td>352</td>\n",
       "      <td>1</td>\n",
       "      <td>2014-01-01 00:00:00</td>\n",
       "      <td>7.39</td>\n",
       "      <td>1</td>\n",
       "      <td>desktop</td>\n",
       "      <td>2014-01-01</td>\n",
       "      <td>60091</td>\n",
       "      <td>2008-01-01</td>\n",
       "      <td>2014-01-01 00:00:00</td>\n",
       "      <td>2014-01-01 02:00:00</td>\n",
       "      <td>2014-01-01</td>\n",
       "      <td>4</td>\n",
       "    </tr>\n",
       "    <tr>\n",
       "      <th>186</th>\n",
       "      <td>186</td>\n",
       "      <td>1</td>\n",
       "      <td>2014-01-01 00:01:05</td>\n",
       "      <td>147.23</td>\n",
       "      <td>1</td>\n",
       "      <td>desktop</td>\n",
       "      <td>2014-01-01</td>\n",
       "      <td>60091</td>\n",
       "      <td>2008-01-01</td>\n",
       "      <td>2014-01-01 00:01:05</td>\n",
       "      <td>2014-01-01 02:01:05</td>\n",
       "      <td>2014-01-01</td>\n",
       "      <td>4</td>\n",
       "    </tr>\n",
       "  </tbody>\n",
       "</table>\n",
       "</div>"
      ],
      "text/plain": [
       "     transaction_id  session_id    transaction_time  amount  customer_id  \\\n",
       "352             352           1 2014-01-01 00:00:00    7.39            1   \n",
       "186             186           1 2014-01-01 00:01:05  147.23            1   \n",
       "\n",
       "      device session_start zip_code  join_date           arrive_dt  \\\n",
       "352  desktop    2014-01-01    60091 2008-01-01 2014-01-01 00:00:00   \n",
       "186  desktop    2014-01-01    60091 2008-01-01 2014-01-01 00:01:05   \n",
       "\n",
       "              depart_dt  date_hour product_id  \n",
       "352 2014-01-01 02:00:00 2014-01-01          4  \n",
       "186 2014-01-01 02:01:05 2014-01-01          4  "
      ]
     },
     "execution_count": 20,
     "metadata": {},
     "output_type": "execute_result"
    }
   ],
   "source": [
    "es['transactions'].df.head(2)"
   ]
  },
  {
   "cell_type": "code",
   "execution_count": 21,
   "metadata": {},
   "outputs": [
    {
     "data": {
      "text/plain": [
       "{'depart_dt': ['amount', 'depart_dt']}"
      ]
     },
     "execution_count": 21,
     "metadata": {},
     "output_type": "execute_result"
    }
   ],
   "source": [
    "es['transactions'].secondary_time_index"
   ]
  },
  {
   "cell_type": "code",
   "execution_count": 25,
   "metadata": {},
   "outputs": [
    {
     "data": {
      "text/plain": [
       "352   2014-01-01 00:00:00\n",
       "186   2014-01-01 00:01:05\n",
       "319   2014-01-01 00:02:10\n",
       "256   2014-01-01 00:03:15\n",
       "449   2014-01-01 00:04:20\n",
       "Name: transaction_time, dtype: datetime64[ns]"
      ]
     },
     "execution_count": 25,
     "metadata": {},
     "output_type": "execute_result"
    }
   ],
   "source": [
    "es['transactions'].last_time_index.head()"
   ]
  },
  {
   "cell_type": "code",
   "execution_count": 23,
   "metadata": {},
   "outputs": [],
   "source": [
    "es.add_last_time_indexes()"
   ]
  },
  {
   "cell_type": "markdown",
   "metadata": {},
   "source": [
    "es = es.normalize_entity(base_entity_id='transactions',\n",
    "                   new_entity_id=\"hours\",\n",
    "                    index=\"date_hour\")"
   ]
  },
  {
   "cell_type": "markdown",
   "metadata": {},
   "source": [
    "es['hours'].df"
   ]
  },
  {
   "cell_type": "code",
   "execution_count": null,
   "metadata": {},
   "outputs": [],
   "source": []
  },
  {
   "cell_type": "code",
   "execution_count": null,
   "metadata": {},
   "outputs": [],
   "source": []
  },
  {
   "cell_type": "code",
   "execution_count": null,
   "metadata": {},
   "outputs": [],
   "source": []
  },
  {
   "cell_type": "code",
   "execution_count": 15,
   "metadata": {},
   "outputs": [],
   "source": [
    "\n",
    "def absolute(column1,column2):\n",
    "    res = abs(column1) + abs(column2)\n",
    "    return res\n",
    " \n",
    "\n",
    "Absolute = make_trans_primitive(function=absolute,\n",
    "                                 input_types=[Numeric,Numeric],\n",
    "                                 return_type=Numeric)"
   ]
  },
  {
   "cell_type": "markdown",
   "metadata": {},
   "source": [
    "fm, feature_defs = ft.dfs(entityset=es,target_entity='transactions',\n",
    "      agg_primitives=['count'],\n",
    "      trans_primitives=[Absolute],\n",
    "    max_depth=1,n_jobs=1)\n",
    "\n",
    "fm.head(2)"
   ]
  },
  {
   "cell_type": "code",
   "execution_count": 25,
   "metadata": {},
   "outputs": [
    {
     "data": {
      "text/html": [
       "<div>\n",
       "<style scoped>\n",
       "    .dataframe tbody tr th:only-of-type {\n",
       "        vertical-align: middle;\n",
       "    }\n",
       "\n",
       "    .dataframe tbody tr th {\n",
       "        vertical-align: top;\n",
       "    }\n",
       "\n",
       "    .dataframe thead th {\n",
       "        text-align: right;\n",
       "    }\n",
       "</style>\n",
       "<table border=\"1\" class=\"dataframe\">\n",
       "  <thead>\n",
       "    <tr style=\"text-align: right;\">\n",
       "      <th></th>\n",
       "      <th>date_hour</th>\n",
       "      <th>first_transactions_time</th>\n",
       "    </tr>\n",
       "  </thead>\n",
       "  <tbody>\n",
       "    <tr>\n",
       "      <th>2014-01-01 00:00:00</th>\n",
       "      <td>2014-01-01 00:00:00</td>\n",
       "      <td>2014-01-01 00:00:00</td>\n",
       "    </tr>\n",
       "    <tr>\n",
       "      <th>2014-01-01 01:00:00</th>\n",
       "      <td>2014-01-01 01:00:00</td>\n",
       "      <td>2014-01-01 01:00:40</td>\n",
       "    </tr>\n",
       "    <tr>\n",
       "      <th>2014-01-01 02:00:00</th>\n",
       "      <td>2014-01-01 02:00:00</td>\n",
       "      <td>2014-01-01 02:00:15</td>\n",
       "    </tr>\n",
       "    <tr>\n",
       "      <th>2014-01-01 03:00:00</th>\n",
       "      <td>2014-01-01 03:00:00</td>\n",
       "      <td>2014-01-01 03:00:55</td>\n",
       "    </tr>\n",
       "    <tr>\n",
       "      <th>2014-01-01 04:00:00</th>\n",
       "      <td>2014-01-01 04:00:00</td>\n",
       "      <td>2014-01-01 04:00:30</td>\n",
       "    </tr>\n",
       "    <tr>\n",
       "      <th>2014-01-01 05:00:00</th>\n",
       "      <td>2014-01-01 05:00:00</td>\n",
       "      <td>2014-01-01 05:00:05</td>\n",
       "    </tr>\n",
       "    <tr>\n",
       "      <th>2014-01-01 06:00:00</th>\n",
       "      <td>2014-01-01 06:00:00</td>\n",
       "      <td>2014-01-01 06:00:45</td>\n",
       "    </tr>\n",
       "    <tr>\n",
       "      <th>2014-01-01 07:00:00</th>\n",
       "      <td>2014-01-01 07:00:00</td>\n",
       "      <td>2014-01-01 07:00:20</td>\n",
       "    </tr>\n",
       "    <tr>\n",
       "      <th>2014-01-01 08:00:00</th>\n",
       "      <td>2014-01-01 08:00:00</td>\n",
       "      <td>2014-01-01 08:01:00</td>\n",
       "    </tr>\n",
       "    <tr>\n",
       "      <th>2014-01-01 09:00:00</th>\n",
       "      <td>2014-01-01 09:00:00</td>\n",
       "      <td>2014-01-01 09:00:35</td>\n",
       "    </tr>\n",
       "  </tbody>\n",
       "</table>\n",
       "</div>"
      ],
      "text/plain": [
       "                              date_hour first_transactions_time\n",
       "2014-01-01 00:00:00 2014-01-01 00:00:00     2014-01-01 00:00:00\n",
       "2014-01-01 01:00:00 2014-01-01 01:00:00     2014-01-01 01:00:40\n",
       "2014-01-01 02:00:00 2014-01-01 02:00:00     2014-01-01 02:00:15\n",
       "2014-01-01 03:00:00 2014-01-01 03:00:00     2014-01-01 03:00:55\n",
       "2014-01-01 04:00:00 2014-01-01 04:00:00     2014-01-01 04:00:30\n",
       "2014-01-01 05:00:00 2014-01-01 05:00:00     2014-01-01 05:00:05\n",
       "2014-01-01 06:00:00 2014-01-01 06:00:00     2014-01-01 06:00:45\n",
       "2014-01-01 07:00:00 2014-01-01 07:00:00     2014-01-01 07:00:20\n",
       "2014-01-01 08:00:00 2014-01-01 08:00:00     2014-01-01 08:01:00\n",
       "2014-01-01 09:00:00 2014-01-01 09:00:00     2014-01-01 09:00:35"
      ]
     },
     "execution_count": 25,
     "metadata": {},
     "output_type": "execute_result"
    }
   ],
   "source": [
    "es['hours'].df"
   ]
  },
  {
   "cell_type": "code",
   "execution_count": 38,
   "metadata": {},
   "outputs": [],
   "source": [
    "from featuretools.primitives import make_agg_primitive, make_trans_primitive\n",
    "\n",
    "from featuretools.variable_types import Text, Numeric, Datetime\n",
    "\n",
    "def occupancy(column1,column2,time):\n",
    "    print(time)\n",
    "    return(4)\n",
    "\n",
    "Occupancy = make_agg_primitive(function=occupancy,\n",
    "                           input_types=[Datetime,Datetime],\n",
    "                            return_type=Numeric,\n",
    "                            uses_calc_time=True)"
   ]
  },
  {
   "cell_type": "code",
   "execution_count": 39,
   "metadata": {},
   "outputs": [
    {
     "name": "stdout",
     "output_type": "stream",
     "text": [
      "2018-12-04 09:33:41.848473\n",
      "2018-12-04 09:33:41.848473\n",
      "2018-12-04 09:33:41.848473\n",
      "2018-12-04 09:33:41.848473\n",
      "2018-12-04 09:33:41.848473\n",
      "2018-12-04 09:33:41.848473\n",
      "2018-12-04 09:33:41.848473\n",
      "2018-12-04 09:33:41.848473\n",
      "2018-12-04 09:33:41.848473\n",
      "2018-12-04 09:33:41.848473\n",
      "2018-12-04 09:33:41.848473\n",
      "2018-12-04 09:33:41.848473\n",
      "2018-12-04 09:33:41.848473\n",
      "2018-12-04 09:33:41.848473\n",
      "2018-12-04 09:33:41.848473\n",
      "2018-12-04 09:33:41.848473\n",
      "2018-12-04 09:33:41.848473\n",
      "2018-12-04 09:33:41.848473\n",
      "2018-12-04 09:33:41.848473\n",
      "2018-12-04 09:33:41.848473\n",
      "2018-12-04 09:33:41.848473\n",
      "2018-12-04 09:33:41.848473\n",
      "2018-12-04 09:33:41.848473\n",
      "2018-12-04 09:33:41.848473\n",
      "2018-12-04 09:33:41.848473\n",
      "2018-12-04 09:33:41.848473\n",
      "2018-12-04 09:33:41.848473\n",
      "2018-12-04 09:33:41.848473\n",
      "2018-12-04 09:33:41.848473\n",
      "2018-12-04 09:33:41.848473\n",
      "2018-12-04 09:33:41.848473\n",
      "2018-12-04 09:33:41.848473\n",
      "2018-12-04 09:33:41.848473\n",
      "2018-12-04 09:33:41.848473\n",
      "2018-12-04 09:33:41.848473\n",
      "2018-12-04 09:33:41.848473\n",
      "2018-12-04 09:33:41.848473\n",
      "2018-12-04 09:33:41.848473\n",
      "2018-12-04 09:33:41.848473\n",
      "2018-12-04 09:33:41.848473\n",
      "2018-12-04 09:33:41.848473\n",
      "2018-12-04 09:33:41.848473\n",
      "2018-12-04 09:33:41.848473\n",
      "2018-12-04 09:33:41.848473\n",
      "2018-12-04 09:33:41.848473\n",
      "2018-12-04 09:33:41.848473\n",
      "2018-12-04 09:33:41.848473\n",
      "2018-12-04 09:33:41.848473\n",
      "2018-12-04 09:33:41.848473\n",
      "2018-12-04 09:33:41.848473\n",
      "2018-12-04 09:33:41.848473\n",
      "2018-12-04 09:33:41.848473\n",
      "2018-12-04 09:33:41.848473\n",
      "2018-12-04 09:33:41.848473\n",
      "2018-12-04 09:33:41.848473\n",
      "2018-12-04 09:33:41.848473\n",
      "2018-12-04 09:33:41.848473\n",
      "2018-12-04 09:33:41.848473\n",
      "2018-12-04 09:33:41.848473\n",
      "2018-12-04 09:33:41.848473\n",
      "2018-12-04 09:33:41.848473\n",
      "2018-12-04 09:33:41.848473\n",
      "2018-12-04 09:33:41.848473\n",
      "2018-12-04 09:33:41.848473\n",
      "2018-12-04 09:33:41.848473\n",
      "2018-12-04 09:33:41.848473\n",
      "2018-12-04 09:33:41.848473\n",
      "2018-12-04 09:33:41.848473\n",
      "2018-12-04 09:33:41.848473\n",
      "2018-12-04 09:33:41.848473\n",
      "2018-12-04 09:33:41.848473\n",
      "2018-12-04 09:33:41.848473\n",
      "2018-12-04 09:33:41.848473\n",
      "2018-12-04 09:33:41.848473\n",
      "2018-12-04 09:33:41.848473\n",
      "2018-12-04 09:33:41.848473\n",
      "2018-12-04 09:33:41.848473\n",
      "2018-12-04 09:33:41.848473\n",
      "2018-12-04 09:33:41.848473\n",
      "2018-12-04 09:33:41.848473\n",
      "2018-12-04 09:33:41.848473\n",
      "2018-12-04 09:33:41.848473\n",
      "2018-12-04 09:33:41.848473\n",
      "2018-12-04 09:33:41.848473\n",
      "2018-12-04 09:33:41.848473\n",
      "2018-12-04 09:33:41.848473\n",
      "2018-12-04 09:33:41.848473\n",
      "2018-12-04 09:33:41.848473\n",
      "2018-12-04 09:33:41.848473\n",
      "2018-12-04 09:33:41.848473\n",
      "2018-12-04 09:33:41.848473\n",
      "2018-12-04 09:33:41.848473\n",
      "2018-12-04 09:33:41.848473\n",
      "2018-12-04 09:33:41.848473\n",
      "2018-12-04 09:33:41.848473\n",
      "2018-12-04 09:33:41.848473\n",
      "2018-12-04 09:33:41.848473\n",
      "2018-12-04 09:33:41.848473\n",
      "2018-12-04 09:33:41.848473\n",
      "2018-12-04 09:33:41.848473\n",
      "2018-12-04 09:33:41.848473\n",
      "2018-12-04 09:33:41.848473\n",
      "2018-12-04 09:33:41.848473\n",
      "2018-12-04 09:33:41.848473\n",
      "2018-12-04 09:33:41.848473\n",
      "2018-12-04 09:33:41.848473\n",
      "2018-12-04 09:33:41.848473\n",
      "2018-12-04 09:33:41.848473\n",
      "2018-12-04 09:33:41.848473\n",
      "2018-12-04 09:33:41.848473\n",
      "2018-12-04 09:33:41.848473\n",
      "2018-12-04 09:33:41.848473\n",
      "2018-12-04 09:33:41.848473\n",
      "2018-12-04 09:33:41.848473\n",
      "2018-12-04 09:33:41.848473\n",
      "2018-12-04 09:33:41.848473\n",
      "2018-12-04 09:33:41.848473\n",
      "2018-12-04 09:33:41.848473\n",
      "2018-12-04 09:33:41.848473\n",
      "2018-12-04 09:33:41.848473\n",
      "2018-12-04 09:33:41.848473\n",
      "2018-12-04 09:33:41.848473\n",
      "2018-12-04 09:33:41.848473\n",
      "2018-12-04 09:33:41.848473\n",
      "2018-12-04 09:33:41.848473\n",
      "2018-12-04 09:33:41.848473\n",
      "2018-12-04 09:33:41.848473\n",
      "2018-12-04 09:33:41.848473\n",
      "2018-12-04 09:33:41.848473\n",
      "2018-12-04 09:33:41.848473\n",
      "2018-12-04 09:33:41.848473\n",
      "2018-12-04 09:33:41.848473\n"
     ]
    },
    {
     "data": {
      "text/html": [
       "<div>\n",
       "<style scoped>\n",
       "    .dataframe tbody tr th:only-of-type {\n",
       "        vertical-align: middle;\n",
       "    }\n",
       "\n",
       "    .dataframe tbody tr th {\n",
       "        vertical-align: top;\n",
       "    }\n",
       "\n",
       "    .dataframe thead th {\n",
       "        text-align: right;\n",
       "    }\n",
       "</style>\n",
       "<table border=\"1\" class=\"dataframe\">\n",
       "  <thead>\n",
       "    <tr style=\"text-align: right;\">\n",
       "      <th></th>\n",
       "      <th>OCCUPANCY(transactions.transaction_time, depart_dt)</th>\n",
       "      <th>OCCUPANCY(transactions.session_start, join_date)</th>\n",
       "      <th>OCCUPANCY(transactions.transaction_time, session_start)</th>\n",
       "      <th>OCCUPANCY(transactions.transaction_time, join_date)</th>\n",
       "      <th>OCCUPANCY(transactions.join_date, depart_dt)</th>\n",
       "      <th>OCCUPANCY(transactions.depart_dt, transaction_time)</th>\n",
       "      <th>OCCUPANCY(transactions.join_date, transaction_time)</th>\n",
       "      <th>OCCUPANCY(transactions.session_start, transaction_time)</th>\n",
       "      <th>OCCUPANCY(transactions.join_date, session_start)</th>\n",
       "      <th>OCCUPANCY(transactions.depart_dt, session_start)</th>\n",
       "      <th>OCCUPANCY(transactions.session_start, depart_dt)</th>\n",
       "      <th>OCCUPANCY(transactions.depart_dt, join_date)</th>\n",
       "      <th>MONTH(first_transactions_time)</th>\n",
       "    </tr>\n",
       "    <tr>\n",
       "      <th>date_hour</th>\n",
       "      <th></th>\n",
       "      <th></th>\n",
       "      <th></th>\n",
       "      <th></th>\n",
       "      <th></th>\n",
       "      <th></th>\n",
       "      <th></th>\n",
       "      <th></th>\n",
       "      <th></th>\n",
       "      <th></th>\n",
       "      <th></th>\n",
       "      <th></th>\n",
       "      <th></th>\n",
       "    </tr>\n",
       "  </thead>\n",
       "  <tbody>\n",
       "    <tr>\n",
       "      <th>2014-01-01 00:00:00</th>\n",
       "      <td>4</td>\n",
       "      <td>4</td>\n",
       "      <td>4</td>\n",
       "      <td>4</td>\n",
       "      <td>4</td>\n",
       "      <td>4</td>\n",
       "      <td>4</td>\n",
       "      <td>4</td>\n",
       "      <td>4</td>\n",
       "      <td>4</td>\n",
       "      <td>4</td>\n",
       "      <td>4</td>\n",
       "      <td>1</td>\n",
       "    </tr>\n",
       "    <tr>\n",
       "      <th>2014-01-01 01:00:00</th>\n",
       "      <td>4</td>\n",
       "      <td>4</td>\n",
       "      <td>4</td>\n",
       "      <td>4</td>\n",
       "      <td>4</td>\n",
       "      <td>4</td>\n",
       "      <td>4</td>\n",
       "      <td>4</td>\n",
       "      <td>4</td>\n",
       "      <td>4</td>\n",
       "      <td>4</td>\n",
       "      <td>4</td>\n",
       "      <td>1</td>\n",
       "    </tr>\n",
       "    <tr>\n",
       "      <th>2014-01-01 02:00:00</th>\n",
       "      <td>4</td>\n",
       "      <td>4</td>\n",
       "      <td>4</td>\n",
       "      <td>4</td>\n",
       "      <td>4</td>\n",
       "      <td>4</td>\n",
       "      <td>4</td>\n",
       "      <td>4</td>\n",
       "      <td>4</td>\n",
       "      <td>4</td>\n",
       "      <td>4</td>\n",
       "      <td>4</td>\n",
       "      <td>1</td>\n",
       "    </tr>\n",
       "    <tr>\n",
       "      <th>2014-01-01 03:00:00</th>\n",
       "      <td>4</td>\n",
       "      <td>4</td>\n",
       "      <td>4</td>\n",
       "      <td>4</td>\n",
       "      <td>4</td>\n",
       "      <td>4</td>\n",
       "      <td>4</td>\n",
       "      <td>4</td>\n",
       "      <td>4</td>\n",
       "      <td>4</td>\n",
       "      <td>4</td>\n",
       "      <td>4</td>\n",
       "      <td>1</td>\n",
       "    </tr>\n",
       "    <tr>\n",
       "      <th>2014-01-01 04:00:00</th>\n",
       "      <td>4</td>\n",
       "      <td>4</td>\n",
       "      <td>4</td>\n",
       "      <td>4</td>\n",
       "      <td>4</td>\n",
       "      <td>4</td>\n",
       "      <td>4</td>\n",
       "      <td>4</td>\n",
       "      <td>4</td>\n",
       "      <td>4</td>\n",
       "      <td>4</td>\n",
       "      <td>4</td>\n",
       "      <td>1</td>\n",
       "    </tr>\n",
       "  </tbody>\n",
       "</table>\n",
       "</div>"
      ],
      "text/plain": [
       "                     OCCUPANCY(transactions.transaction_time, depart_dt)  \\\n",
       "date_hour                                                                  \n",
       "2014-01-01 00:00:00                                                  4     \n",
       "2014-01-01 01:00:00                                                  4     \n",
       "2014-01-01 02:00:00                                                  4     \n",
       "2014-01-01 03:00:00                                                  4     \n",
       "2014-01-01 04:00:00                                                  4     \n",
       "\n",
       "                     OCCUPANCY(transactions.session_start, join_date)  \\\n",
       "date_hour                                                               \n",
       "2014-01-01 00:00:00                                                 4   \n",
       "2014-01-01 01:00:00                                                 4   \n",
       "2014-01-01 02:00:00                                                 4   \n",
       "2014-01-01 03:00:00                                                 4   \n",
       "2014-01-01 04:00:00                                                 4   \n",
       "\n",
       "                     OCCUPANCY(transactions.transaction_time, session_start)  \\\n",
       "date_hour                                                                      \n",
       "2014-01-01 00:00:00                                                  4         \n",
       "2014-01-01 01:00:00                                                  4         \n",
       "2014-01-01 02:00:00                                                  4         \n",
       "2014-01-01 03:00:00                                                  4         \n",
       "2014-01-01 04:00:00                                                  4         \n",
       "\n",
       "                     OCCUPANCY(transactions.transaction_time, join_date)  \\\n",
       "date_hour                                                                  \n",
       "2014-01-01 00:00:00                                                  4     \n",
       "2014-01-01 01:00:00                                                  4     \n",
       "2014-01-01 02:00:00                                                  4     \n",
       "2014-01-01 03:00:00                                                  4     \n",
       "2014-01-01 04:00:00                                                  4     \n",
       "\n",
       "                     OCCUPANCY(transactions.join_date, depart_dt)  \\\n",
       "date_hour                                                           \n",
       "2014-01-01 00:00:00                                             4   \n",
       "2014-01-01 01:00:00                                             4   \n",
       "2014-01-01 02:00:00                                             4   \n",
       "2014-01-01 03:00:00                                             4   \n",
       "2014-01-01 04:00:00                                             4   \n",
       "\n",
       "                     OCCUPANCY(transactions.depart_dt, transaction_time)  \\\n",
       "date_hour                                                                  \n",
       "2014-01-01 00:00:00                                                  4     \n",
       "2014-01-01 01:00:00                                                  4     \n",
       "2014-01-01 02:00:00                                                  4     \n",
       "2014-01-01 03:00:00                                                  4     \n",
       "2014-01-01 04:00:00                                                  4     \n",
       "\n",
       "                     OCCUPANCY(transactions.join_date, transaction_time)  \\\n",
       "date_hour                                                                  \n",
       "2014-01-01 00:00:00                                                  4     \n",
       "2014-01-01 01:00:00                                                  4     \n",
       "2014-01-01 02:00:00                                                  4     \n",
       "2014-01-01 03:00:00                                                  4     \n",
       "2014-01-01 04:00:00                                                  4     \n",
       "\n",
       "                     OCCUPANCY(transactions.session_start, transaction_time)  \\\n",
       "date_hour                                                                      \n",
       "2014-01-01 00:00:00                                                  4         \n",
       "2014-01-01 01:00:00                                                  4         \n",
       "2014-01-01 02:00:00                                                  4         \n",
       "2014-01-01 03:00:00                                                  4         \n",
       "2014-01-01 04:00:00                                                  4         \n",
       "\n",
       "                     OCCUPANCY(transactions.join_date, session_start)  \\\n",
       "date_hour                                                               \n",
       "2014-01-01 00:00:00                                                 4   \n",
       "2014-01-01 01:00:00                                                 4   \n",
       "2014-01-01 02:00:00                                                 4   \n",
       "2014-01-01 03:00:00                                                 4   \n",
       "2014-01-01 04:00:00                                                 4   \n",
       "\n",
       "                     OCCUPANCY(transactions.depart_dt, session_start)  \\\n",
       "date_hour                                                               \n",
       "2014-01-01 00:00:00                                                 4   \n",
       "2014-01-01 01:00:00                                                 4   \n",
       "2014-01-01 02:00:00                                                 4   \n",
       "2014-01-01 03:00:00                                                 4   \n",
       "2014-01-01 04:00:00                                                 4   \n",
       "\n",
       "                     OCCUPANCY(transactions.session_start, depart_dt)  \\\n",
       "date_hour                                                               \n",
       "2014-01-01 00:00:00                                                 4   \n",
       "2014-01-01 01:00:00                                                 4   \n",
       "2014-01-01 02:00:00                                                 4   \n",
       "2014-01-01 03:00:00                                                 4   \n",
       "2014-01-01 04:00:00                                                 4   \n",
       "\n",
       "                     OCCUPANCY(transactions.depart_dt, join_date)  \\\n",
       "date_hour                                                           \n",
       "2014-01-01 00:00:00                                             4   \n",
       "2014-01-01 01:00:00                                             4   \n",
       "2014-01-01 02:00:00                                             4   \n",
       "2014-01-01 03:00:00                                             4   \n",
       "2014-01-01 04:00:00                                             4   \n",
       "\n",
       "                     MONTH(first_transactions_time)  \n",
       "date_hour                                            \n",
       "2014-01-01 00:00:00                               1  \n",
       "2014-01-01 01:00:00                               1  \n",
       "2014-01-01 02:00:00                               1  \n",
       "2014-01-01 03:00:00                               1  \n",
       "2014-01-01 04:00:00                               1  "
      ]
     },
     "execution_count": 39,
     "metadata": {},
     "output_type": "execute_result"
    }
   ],
   "source": [
    "feature_matrix1, feature_defs = ft.dfs(entityset=es,target_entity='hours',\n",
    "      agg_primitives=[Occupancy],\n",
    "      trans_primitives=['month'],\n",
    "    max_depth=2,n_jobs=1)\n",
    "\n",
    "feature_matrix1.head()"
   ]
  },
  {
   "cell_type": "code",
   "execution_count": 29,
   "metadata": {},
   "outputs": [
    {
     "data": {
      "text/html": [
       "<div>\n",
       "<style scoped>\n",
       "    .dataframe tbody tr th:only-of-type {\n",
       "        vertical-align: middle;\n",
       "    }\n",
       "\n",
       "    .dataframe tbody tr th {\n",
       "        vertical-align: top;\n",
       "    }\n",
       "\n",
       "    .dataframe thead th {\n",
       "        text-align: right;\n",
       "    }\n",
       "</style>\n",
       "<table border=\"1\" class=\"dataframe\">\n",
       "  <thead>\n",
       "    <tr style=\"text-align: right;\">\n",
       "      <th></th>\n",
       "      <th>arrive_dt</th>\n",
       "      <th>transaction_id</th>\n",
       "      <th>session_id</th>\n",
       "      <th>transaction_time</th>\n",
       "      <th>amount</th>\n",
       "      <th>customer_id</th>\n",
       "      <th>device</th>\n",
       "      <th>session_start</th>\n",
       "      <th>zip_code</th>\n",
       "      <th>join_date</th>\n",
       "      <th>depart_dt</th>\n",
       "      <th>date_hour</th>\n",
       "      <th>product_id</th>\n",
       "    </tr>\n",
       "  </thead>\n",
       "  <tbody>\n",
       "    <tr>\n",
       "      <th>2014-01-01 00:00:00</th>\n",
       "      <td>2014-01-01 00:00:00</td>\n",
       "      <td>352</td>\n",
       "      <td>1</td>\n",
       "      <td>2014-01-01 00:00:00</td>\n",
       "      <td>7.39</td>\n",
       "      <td>1</td>\n",
       "      <td>desktop</td>\n",
       "      <td>2014-01-01</td>\n",
       "      <td>60091</td>\n",
       "      <td>2008-01-01</td>\n",
       "      <td>2014-01-01 02:00:00</td>\n",
       "      <td>2014-01-01</td>\n",
       "      <td>4</td>\n",
       "    </tr>\n",
       "    <tr>\n",
       "      <th>2014-01-01 00:01:05</th>\n",
       "      <td>2014-01-01 00:01:05</td>\n",
       "      <td>186</td>\n",
       "      <td>1</td>\n",
       "      <td>2014-01-01 00:01:05</td>\n",
       "      <td>147.23</td>\n",
       "      <td>1</td>\n",
       "      <td>desktop</td>\n",
       "      <td>2014-01-01</td>\n",
       "      <td>60091</td>\n",
       "      <td>2008-01-01</td>\n",
       "      <td>2014-01-01 02:01:05</td>\n",
       "      <td>2014-01-01</td>\n",
       "      <td>4</td>\n",
       "    </tr>\n",
       "    <tr>\n",
       "      <th>2014-01-01 00:02:10</th>\n",
       "      <td>2014-01-01 00:02:10</td>\n",
       "      <td>319</td>\n",
       "      <td>1</td>\n",
       "      <td>2014-01-01 00:02:10</td>\n",
       "      <td>111.34</td>\n",
       "      <td>1</td>\n",
       "      <td>desktop</td>\n",
       "      <td>2014-01-01</td>\n",
       "      <td>60091</td>\n",
       "      <td>2008-01-01</td>\n",
       "      <td>2014-01-01 02:02:10</td>\n",
       "      <td>2014-01-01</td>\n",
       "      <td>2</td>\n",
       "    </tr>\n",
       "    <tr>\n",
       "      <th>2014-01-01 00:03:15</th>\n",
       "      <td>2014-01-01 00:03:15</td>\n",
       "      <td>256</td>\n",
       "      <td>1</td>\n",
       "      <td>2014-01-01 00:03:15</td>\n",
       "      <td>78.15</td>\n",
       "      <td>1</td>\n",
       "      <td>desktop</td>\n",
       "      <td>2014-01-01</td>\n",
       "      <td>60091</td>\n",
       "      <td>2008-01-01</td>\n",
       "      <td>2014-01-01 02:03:15</td>\n",
       "      <td>2014-01-01</td>\n",
       "      <td>4</td>\n",
       "    </tr>\n",
       "    <tr>\n",
       "      <th>2014-01-01 00:04:20</th>\n",
       "      <td>2014-01-01 00:04:20</td>\n",
       "      <td>449</td>\n",
       "      <td>1</td>\n",
       "      <td>2014-01-01 00:04:20</td>\n",
       "      <td>33.93</td>\n",
       "      <td>1</td>\n",
       "      <td>desktop</td>\n",
       "      <td>2014-01-01</td>\n",
       "      <td>60091</td>\n",
       "      <td>2008-01-01</td>\n",
       "      <td>2014-01-01 02:04:20</td>\n",
       "      <td>2014-01-01</td>\n",
       "      <td>3</td>\n",
       "    </tr>\n",
       "  </tbody>\n",
       "</table>\n",
       "</div>"
      ],
      "text/plain": [
       "                              arrive_dt  transaction_id  session_id  \\\n",
       "2014-01-01 00:00:00 2014-01-01 00:00:00             352           1   \n",
       "2014-01-01 00:01:05 2014-01-01 00:01:05             186           1   \n",
       "2014-01-01 00:02:10 2014-01-01 00:02:10             319           1   \n",
       "2014-01-01 00:03:15 2014-01-01 00:03:15             256           1   \n",
       "2014-01-01 00:04:20 2014-01-01 00:04:20             449           1   \n",
       "\n",
       "                       transaction_time  amount  customer_id   device  \\\n",
       "2014-01-01 00:00:00 2014-01-01 00:00:00    7.39            1  desktop   \n",
       "2014-01-01 00:01:05 2014-01-01 00:01:05  147.23            1  desktop   \n",
       "2014-01-01 00:02:10 2014-01-01 00:02:10  111.34            1  desktop   \n",
       "2014-01-01 00:03:15 2014-01-01 00:03:15   78.15            1  desktop   \n",
       "2014-01-01 00:04:20 2014-01-01 00:04:20   33.93            1  desktop   \n",
       "\n",
       "                    session_start zip_code  join_date           depart_dt  \\\n",
       "2014-01-01 00:00:00    2014-01-01    60091 2008-01-01 2014-01-01 02:00:00   \n",
       "2014-01-01 00:01:05    2014-01-01    60091 2008-01-01 2014-01-01 02:01:05   \n",
       "2014-01-01 00:02:10    2014-01-01    60091 2008-01-01 2014-01-01 02:02:10   \n",
       "2014-01-01 00:03:15    2014-01-01    60091 2008-01-01 2014-01-01 02:03:15   \n",
       "2014-01-01 00:04:20    2014-01-01    60091 2008-01-01 2014-01-01 02:04:20   \n",
       "\n",
       "                     date_hour product_id  \n",
       "2014-01-01 00:00:00 2014-01-01          4  \n",
       "2014-01-01 00:01:05 2014-01-01          4  \n",
       "2014-01-01 00:02:10 2014-01-01          2  \n",
       "2014-01-01 00:03:15 2014-01-01          4  \n",
       "2014-01-01 00:04:20 2014-01-01          3  "
      ]
     },
     "execution_count": 29,
     "metadata": {},
     "output_type": "execute_result"
    }
   ],
   "source": [
    "es['transactions'].df.head()"
   ]
  },
  {
   "cell_type": "code",
   "execution_count": 99,
   "metadata": {},
   "outputs": [
    {
     "data": {
      "text/html": [
       "<div>\n",
       "<style scoped>\n",
       "    .dataframe tbody tr th:only-of-type {\n",
       "        vertical-align: middle;\n",
       "    }\n",
       "\n",
       "    .dataframe tbody tr th {\n",
       "        vertical-align: top;\n",
       "    }\n",
       "\n",
       "    .dataframe thead th {\n",
       "        text-align: right;\n",
       "    }\n",
       "</style>\n",
       "<table border=\"1\" class=\"dataframe\">\n",
       "  <thead>\n",
       "    <tr style=\"text-align: right;\">\n",
       "      <th></th>\n",
       "      <th>date_hour</th>\n",
       "      <th>first_transactions_time</th>\n",
       "    </tr>\n",
       "  </thead>\n",
       "  <tbody>\n",
       "    <tr>\n",
       "      <th>2014-01-01 00:00:00</th>\n",
       "      <td>2014-01-01 00:00:00</td>\n",
       "      <td>2014-01-01 00:00:00</td>\n",
       "    </tr>\n",
       "    <tr>\n",
       "      <th>2014-01-01 01:00:00</th>\n",
       "      <td>2014-01-01 01:00:00</td>\n",
       "      <td>2014-01-01 01:00:40</td>\n",
       "    </tr>\n",
       "    <tr>\n",
       "      <th>2014-01-01 02:00:00</th>\n",
       "      <td>2014-01-01 02:00:00</td>\n",
       "      <td>2014-01-01 02:00:15</td>\n",
       "    </tr>\n",
       "    <tr>\n",
       "      <th>2014-01-01 03:00:00</th>\n",
       "      <td>2014-01-01 03:00:00</td>\n",
       "      <td>2014-01-01 03:00:55</td>\n",
       "    </tr>\n",
       "    <tr>\n",
       "      <th>2014-01-01 04:00:00</th>\n",
       "      <td>2014-01-01 04:00:00</td>\n",
       "      <td>2014-01-01 04:00:30</td>\n",
       "    </tr>\n",
       "    <tr>\n",
       "      <th>2014-01-01 05:00:00</th>\n",
       "      <td>2014-01-01 05:00:00</td>\n",
       "      <td>2014-01-01 05:00:05</td>\n",
       "    </tr>\n",
       "    <tr>\n",
       "      <th>2014-01-01 06:00:00</th>\n",
       "      <td>2014-01-01 06:00:00</td>\n",
       "      <td>2014-01-01 06:00:45</td>\n",
       "    </tr>\n",
       "    <tr>\n",
       "      <th>2014-01-01 07:00:00</th>\n",
       "      <td>2014-01-01 07:00:00</td>\n",
       "      <td>2014-01-01 07:00:20</td>\n",
       "    </tr>\n",
       "    <tr>\n",
       "      <th>2014-01-01 08:00:00</th>\n",
       "      <td>2014-01-01 08:00:00</td>\n",
       "      <td>2014-01-01 08:01:00</td>\n",
       "    </tr>\n",
       "    <tr>\n",
       "      <th>2014-01-01 09:00:00</th>\n",
       "      <td>2014-01-01 09:00:00</td>\n",
       "      <td>2014-01-01 09:00:35</td>\n",
       "    </tr>\n",
       "  </tbody>\n",
       "</table>\n",
       "</div>"
      ],
      "text/plain": [
       "                              date_hour first_transactions_time\n",
       "2014-01-01 00:00:00 2014-01-01 00:00:00     2014-01-01 00:00:00\n",
       "2014-01-01 01:00:00 2014-01-01 01:00:00     2014-01-01 01:00:40\n",
       "2014-01-01 02:00:00 2014-01-01 02:00:00     2014-01-01 02:00:15\n",
       "2014-01-01 03:00:00 2014-01-01 03:00:00     2014-01-01 03:00:55\n",
       "2014-01-01 04:00:00 2014-01-01 04:00:00     2014-01-01 04:00:30\n",
       "2014-01-01 05:00:00 2014-01-01 05:00:00     2014-01-01 05:00:05\n",
       "2014-01-01 06:00:00 2014-01-01 06:00:00     2014-01-01 06:00:45\n",
       "2014-01-01 07:00:00 2014-01-01 07:00:00     2014-01-01 07:00:20\n",
       "2014-01-01 08:00:00 2014-01-01 08:00:00     2014-01-01 08:01:00\n",
       "2014-01-01 09:00:00 2014-01-01 09:00:00     2014-01-01 09:00:35"
      ]
     },
     "execution_count": 99,
     "metadata": {},
     "output_type": "execute_result"
    }
   ],
   "source": [
    "es['hours'].df"
   ]
  },
  {
   "cell_type": "code",
   "execution_count": 127,
   "metadata": {},
   "outputs": [
    {
     "data": {
      "text/html": [
       "<div>\n",
       "<style scoped>\n",
       "    .dataframe tbody tr th:only-of-type {\n",
       "        vertical-align: middle;\n",
       "    }\n",
       "\n",
       "    .dataframe tbody tr th {\n",
       "        vertical-align: top;\n",
       "    }\n",
       "\n",
       "    .dataframe thead th {\n",
       "        text-align: right;\n",
       "    }\n",
       "</style>\n",
       "<table border=\"1\" class=\"dataframe\">\n",
       "  <thead>\n",
       "    <tr style=\"text-align: right;\">\n",
       "      <th></th>\n",
       "      <th>arrive_dt</th>\n",
       "      <th>transaction_id</th>\n",
       "      <th>session_id</th>\n",
       "      <th>transaction_time</th>\n",
       "      <th>amount</th>\n",
       "      <th>customer_id</th>\n",
       "      <th>device</th>\n",
       "      <th>session_start</th>\n",
       "      <th>zip_code</th>\n",
       "      <th>join_date</th>\n",
       "      <th>depart_dt</th>\n",
       "      <th>date_hour</th>\n",
       "      <th>product_id</th>\n",
       "    </tr>\n",
       "  </thead>\n",
       "  <tbody>\n",
       "    <tr>\n",
       "      <th>2014-01-01 00:00:00</th>\n",
       "      <td>2014-01-01 00:00:00</td>\n",
       "      <td>352</td>\n",
       "      <td>1</td>\n",
       "      <td>2014-01-01 00:00:00</td>\n",
       "      <td>7.39</td>\n",
       "      <td>1</td>\n",
       "      <td>desktop</td>\n",
       "      <td>2014-01-01</td>\n",
       "      <td>60091</td>\n",
       "      <td>2008-01-01</td>\n",
       "      <td>2014-01-01 02:00:00</td>\n",
       "      <td>2014-01-01</td>\n",
       "      <td>4</td>\n",
       "    </tr>\n",
       "    <tr>\n",
       "      <th>2014-01-01 00:01:05</th>\n",
       "      <td>2014-01-01 00:01:05</td>\n",
       "      <td>186</td>\n",
       "      <td>1</td>\n",
       "      <td>2014-01-01 00:01:05</td>\n",
       "      <td>147.23</td>\n",
       "      <td>1</td>\n",
       "      <td>desktop</td>\n",
       "      <td>2014-01-01</td>\n",
       "      <td>60091</td>\n",
       "      <td>2008-01-01</td>\n",
       "      <td>2014-01-01 02:01:05</td>\n",
       "      <td>2014-01-01</td>\n",
       "      <td>4</td>\n",
       "    </tr>\n",
       "  </tbody>\n",
       "</table>\n",
       "</div>"
      ],
      "text/plain": [
       "                              arrive_dt  transaction_id  session_id  \\\n",
       "2014-01-01 00:00:00 2014-01-01 00:00:00             352           1   \n",
       "2014-01-01 00:01:05 2014-01-01 00:01:05             186           1   \n",
       "\n",
       "                       transaction_time  amount  customer_id   device  \\\n",
       "2014-01-01 00:00:00 2014-01-01 00:00:00    7.39            1  desktop   \n",
       "2014-01-01 00:01:05 2014-01-01 00:01:05  147.23            1  desktop   \n",
       "\n",
       "                    session_start zip_code  join_date           depart_dt  \\\n",
       "2014-01-01 00:00:00    2014-01-01    60091 2008-01-01 2014-01-01 02:00:00   \n",
       "2014-01-01 00:01:05    2014-01-01    60091 2008-01-01 2014-01-01 02:01:05   \n",
       "\n",
       "                     date_hour product_id  \n",
       "2014-01-01 00:00:00 2014-01-01          4  \n",
       "2014-01-01 00:01:05 2014-01-01          4  "
      ]
     },
     "execution_count": 127,
     "metadata": {},
     "output_type": "execute_result"
    }
   ],
   "source": [
    "es['transactions'].df.head(2)"
   ]
  },
  {
   "cell_type": "code",
   "execution_count": 148,
   "metadata": {},
   "outputs": [
    {
     "data": {
      "text/html": [
       "<div>\n",
       "<style scoped>\n",
       "    .dataframe tbody tr th:only-of-type {\n",
       "        vertical-align: middle;\n",
       "    }\n",
       "\n",
       "    .dataframe tbody tr th {\n",
       "        vertical-align: top;\n",
       "    }\n",
       "\n",
       "    .dataframe thead th {\n",
       "        text-align: right;\n",
       "    }\n",
       "</style>\n",
       "<table border=\"1\" class=\"dataframe\">\n",
       "  <thead>\n",
       "    <tr style=\"text-align: right;\">\n",
       "      <th></th>\n",
       "      <th>date_hour</th>\n",
       "      <th>time</th>\n",
       "    </tr>\n",
       "  </thead>\n",
       "  <tbody>\n",
       "    <tr>\n",
       "      <th>0</th>\n",
       "      <td>2014-01-01 00:00:00</td>\n",
       "      <td>2013-12-31 23:00:00</td>\n",
       "    </tr>\n",
       "    <tr>\n",
       "      <th>1</th>\n",
       "      <td>2014-01-01 01:00:00</td>\n",
       "      <td>2014-01-01 00:00:00</td>\n",
       "    </tr>\n",
       "    <tr>\n",
       "      <th>2</th>\n",
       "      <td>2014-01-01 02:00:00</td>\n",
       "      <td>2014-01-01 01:00:00</td>\n",
       "    </tr>\n",
       "    <tr>\n",
       "      <th>3</th>\n",
       "      <td>2014-01-01 03:00:00</td>\n",
       "      <td>2014-01-01 02:00:00</td>\n",
       "    </tr>\n",
       "    <tr>\n",
       "      <th>4</th>\n",
       "      <td>2014-01-01 04:00:00</td>\n",
       "      <td>2014-01-01 03:00:00</td>\n",
       "    </tr>\n",
       "    <tr>\n",
       "      <th>5</th>\n",
       "      <td>2014-01-01 05:00:00</td>\n",
       "      <td>2014-01-01 04:00:00</td>\n",
       "    </tr>\n",
       "    <tr>\n",
       "      <th>6</th>\n",
       "      <td>2014-01-01 06:00:00</td>\n",
       "      <td>2014-01-01 05:00:00</td>\n",
       "    </tr>\n",
       "    <tr>\n",
       "      <th>7</th>\n",
       "      <td>2014-01-01 07:00:00</td>\n",
       "      <td>2014-01-01 06:00:00</td>\n",
       "    </tr>\n",
       "    <tr>\n",
       "      <th>8</th>\n",
       "      <td>2014-01-01 08:00:00</td>\n",
       "      <td>2014-01-01 07:00:00</td>\n",
       "    </tr>\n",
       "    <tr>\n",
       "      <th>9</th>\n",
       "      <td>2014-01-01 09:00:00</td>\n",
       "      <td>2014-01-01 08:00:00</td>\n",
       "    </tr>\n",
       "  </tbody>\n",
       "</table>\n",
       "</div>"
      ],
      "text/plain": [
       "            date_hour                time\n",
       "0 2014-01-01 00:00:00 2013-12-31 23:00:00\n",
       "1 2014-01-01 01:00:00 2014-01-01 00:00:00\n",
       "2 2014-01-01 02:00:00 2014-01-01 01:00:00\n",
       "3 2014-01-01 03:00:00 2014-01-01 02:00:00\n",
       "4 2014-01-01 04:00:00 2014-01-01 03:00:00\n",
       "5 2014-01-01 05:00:00 2014-01-01 04:00:00\n",
       "6 2014-01-01 06:00:00 2014-01-01 05:00:00\n",
       "7 2014-01-01 07:00:00 2014-01-01 06:00:00\n",
       "8 2014-01-01 08:00:00 2014-01-01 07:00:00\n",
       "9 2014-01-01 09:00:00 2014-01-01 08:00:00"
      ]
     },
     "execution_count": 148,
     "metadata": {},
     "output_type": "execute_result"
    }
   ],
   "source": [
    "df_ct = pd.DataFrame(es['hours'].df['date_hour'].copy()).reset_index().rename(columns={'date_hour':'time','index':'date_hour'})\n",
    "df_ct['time'] = df_ct['time'].apply(lambda x : x - pd.Timedelta(1,'h'))\n",
    "df_ct"
   ]
  },
  {
   "cell_type": "code",
   "execution_count": 149,
   "metadata": {},
   "outputs": [
    {
     "data": {
      "text/plain": [
       "Entityset: activity\n",
       "  Entities:\n",
       "    transactions [Rows: 500, Columns: 13]\n",
       "    hours [Rows: 10, Columns: 2]\n",
       "  Relationships:\n",
       "    transactions.date_hour -> hours.date_hour"
      ]
     },
     "execution_count": 149,
     "metadata": {},
     "output_type": "execute_result"
    }
   ],
   "source": [
    "es"
   ]
  },
  {
   "cell_type": "code",
   "execution_count": 151,
   "metadata": {},
   "outputs": [
    {
     "data": {
      "text/html": [
       "<div>\n",
       "<style scoped>\n",
       "    .dataframe tbody tr th:only-of-type {\n",
       "        vertical-align: middle;\n",
       "    }\n",
       "\n",
       "    .dataframe tbody tr th {\n",
       "        vertical-align: top;\n",
       "    }\n",
       "\n",
       "    .dataframe thead th {\n",
       "        text-align: right;\n",
       "    }\n",
       "</style>\n",
       "<table border=\"1\" class=\"dataframe\">\n",
       "  <thead>\n",
       "    <tr style=\"text-align: right;\">\n",
       "      <th></th>\n",
       "      <th>COUNT(transactions)</th>\n",
       "    </tr>\n",
       "    <tr>\n",
       "      <th>date_hour</th>\n",
       "      <th></th>\n",
       "    </tr>\n",
       "  </thead>\n",
       "  <tbody>\n",
       "    <tr>\n",
       "      <th>2014-01-01 00:00:00</th>\n",
       "      <td>0</td>\n",
       "    </tr>\n",
       "    <tr>\n",
       "      <th>2014-01-01 01:00:00</th>\n",
       "      <td>0</td>\n",
       "    </tr>\n",
       "    <tr>\n",
       "      <th>2014-01-01 02:00:00</th>\n",
       "      <td>0</td>\n",
       "    </tr>\n",
       "    <tr>\n",
       "      <th>2014-01-01 03:00:00</th>\n",
       "      <td>0</td>\n",
       "    </tr>\n",
       "    <tr>\n",
       "      <th>2014-01-01 04:00:00</th>\n",
       "      <td>0</td>\n",
       "    </tr>\n",
       "    <tr>\n",
       "      <th>2014-01-01 05:00:00</th>\n",
       "      <td>0</td>\n",
       "    </tr>\n",
       "    <tr>\n",
       "      <th>2014-01-01 06:00:00</th>\n",
       "      <td>0</td>\n",
       "    </tr>\n",
       "    <tr>\n",
       "      <th>2014-01-01 07:00:00</th>\n",
       "      <td>0</td>\n",
       "    </tr>\n",
       "    <tr>\n",
       "      <th>2014-01-01 08:00:00</th>\n",
       "      <td>0</td>\n",
       "    </tr>\n",
       "    <tr>\n",
       "      <th>2014-01-01 09:00:00</th>\n",
       "      <td>0</td>\n",
       "    </tr>\n",
       "  </tbody>\n",
       "</table>\n",
       "</div>"
      ],
      "text/plain": [
       "                     COUNT(transactions)\n",
       "date_hour                               \n",
       "2014-01-01 00:00:00                    0\n",
       "2014-01-01 01:00:00                    0\n",
       "2014-01-01 02:00:00                    0\n",
       "2014-01-01 03:00:00                    0\n",
       "2014-01-01 04:00:00                    0\n",
       "2014-01-01 05:00:00                    0\n",
       "2014-01-01 06:00:00                    0\n",
       "2014-01-01 07:00:00                    0\n",
       "2014-01-01 08:00:00                    0\n",
       "2014-01-01 09:00:00                    0"
      ]
     },
     "execution_count": 151,
     "metadata": {},
     "output_type": "execute_result"
    }
   ],
   "source": [
    "feature_matrix, feature_defs = ft.dfs(entityset=es,\n",
    "                                     target_entity=\"hours\",\n",
    "                                    agg_primitives=['count'],\n",
    "                                    trans_primitives=[],\n",
    "                                cutoff_time =df_ct,\n",
    "                                     max_depth=1)\n",
    "feature_matrix"
   ]
  },
  {
   "cell_type": "code",
   "execution_count": 122,
   "metadata": {},
   "outputs": [
    {
     "data": {
      "text/html": [
       "<div>\n",
       "<style scoped>\n",
       "    .dataframe tbody tr th:only-of-type {\n",
       "        vertical-align: middle;\n",
       "    }\n",
       "\n",
       "    .dataframe tbody tr th {\n",
       "        vertical-align: top;\n",
       "    }\n",
       "\n",
       "    .dataframe thead th {\n",
       "        text-align: right;\n",
       "    }\n",
       "</style>\n",
       "<table border=\"1\" class=\"dataframe\">\n",
       "  <thead>\n",
       "    <tr style=\"text-align: right;\">\n",
       "      <th></th>\n",
       "      <th>name</th>\n",
       "      <th>type</th>\n",
       "      <th>description</th>\n",
       "    </tr>\n",
       "  </thead>\n",
       "  <tbody>\n",
       "    <tr>\n",
       "      <th>0</th>\n",
       "      <td>mode</td>\n",
       "      <td>aggregation</td>\n",
       "      <td>Finds the most common element in a categorical...</td>\n",
       "    </tr>\n",
       "    <tr>\n",
       "      <th>1</th>\n",
       "      <td>last</td>\n",
       "      <td>aggregation</td>\n",
       "      <td>Returns the last value.</td>\n",
       "    </tr>\n",
       "    <tr>\n",
       "      <th>2</th>\n",
       "      <td>median</td>\n",
       "      <td>aggregation</td>\n",
       "      <td>Finds the median value of any feature with wel...</td>\n",
       "    </tr>\n",
       "    <tr>\n",
       "      <th>3</th>\n",
       "      <td>min</td>\n",
       "      <td>aggregation</td>\n",
       "      <td>Finds the minimum non-null value of a numeric ...</td>\n",
       "    </tr>\n",
       "    <tr>\n",
       "      <th>4</th>\n",
       "      <td>trend</td>\n",
       "      <td>aggregation</td>\n",
       "      <td>Calculates the slope of the linear trend of va...</td>\n",
       "    </tr>\n",
       "    <tr>\n",
       "      <th>5</th>\n",
       "      <td>mean</td>\n",
       "      <td>aggregation</td>\n",
       "      <td>Computes the average value of a numeric feature.</td>\n",
       "    </tr>\n",
       "    <tr>\n",
       "      <th>6</th>\n",
       "      <td>avg_time_between</td>\n",
       "      <td>aggregation</td>\n",
       "      <td>Computes the average time between consecutive ...</td>\n",
       "    </tr>\n",
       "    <tr>\n",
       "      <th>7</th>\n",
       "      <td>skew</td>\n",
       "      <td>aggregation</td>\n",
       "      <td>Computes the skewness of a data set.</td>\n",
       "    </tr>\n",
       "    <tr>\n",
       "      <th>8</th>\n",
       "      <td>time_since_last</td>\n",
       "      <td>aggregation</td>\n",
       "      <td>Time since last related instance.</td>\n",
       "    </tr>\n",
       "    <tr>\n",
       "      <th>9</th>\n",
       "      <td>percent_true</td>\n",
       "      <td>aggregation</td>\n",
       "      <td>Finds the percent of 'True' values in a boolea...</td>\n",
       "    </tr>\n",
       "    <tr>\n",
       "      <th>10</th>\n",
       "      <td>all</td>\n",
       "      <td>aggregation</td>\n",
       "      <td>Test if all values are 'True'.</td>\n",
       "    </tr>\n",
       "    <tr>\n",
       "      <th>11</th>\n",
       "      <td>sum</td>\n",
       "      <td>aggregation</td>\n",
       "      <td>Sums elements of a numeric or boolean feature.</td>\n",
       "    </tr>\n",
       "    <tr>\n",
       "      <th>12</th>\n",
       "      <td>n_most_common</td>\n",
       "      <td>aggregation</td>\n",
       "      <td>Finds the N most common elements in a categori...</td>\n",
       "    </tr>\n",
       "    <tr>\n",
       "      <th>13</th>\n",
       "      <td>num_true</td>\n",
       "      <td>aggregation</td>\n",
       "      <td>Finds the number of 'True' values in a boolean.</td>\n",
       "    </tr>\n",
       "    <tr>\n",
       "      <th>14</th>\n",
       "      <td>max</td>\n",
       "      <td>aggregation</td>\n",
       "      <td>Finds the maximum non-null value of a numeric ...</td>\n",
       "    </tr>\n",
       "    <tr>\n",
       "      <th>15</th>\n",
       "      <td>count</td>\n",
       "      <td>aggregation</td>\n",
       "      <td>Counts the number of non null values.</td>\n",
       "    </tr>\n",
       "    <tr>\n",
       "      <th>16</th>\n",
       "      <td>any</td>\n",
       "      <td>aggregation</td>\n",
       "      <td>Test if any value is 'True'.</td>\n",
       "    </tr>\n",
       "    <tr>\n",
       "      <th>17</th>\n",
       "      <td>num_unique</td>\n",
       "      <td>aggregation</td>\n",
       "      <td>Returns the number of unique categorical varia...</td>\n",
       "    </tr>\n",
       "    <tr>\n",
       "      <th>18</th>\n",
       "      <td>std</td>\n",
       "      <td>aggregation</td>\n",
       "      <td>Finds the standard deviation of a numeric feat...</td>\n",
       "    </tr>\n",
       "    <tr>\n",
       "      <th>19</th>\n",
       "      <td>cum_max</td>\n",
       "      <td>transform</td>\n",
       "      <td>Calculates the max of previous values of an in...</td>\n",
       "    </tr>\n",
       "    <tr>\n",
       "      <th>20</th>\n",
       "      <td>longitude</td>\n",
       "      <td>transform</td>\n",
       "      <td>Returns the second value on the tuple base fea...</td>\n",
       "    </tr>\n",
       "    <tr>\n",
       "      <th>21</th>\n",
       "      <td>weekend</td>\n",
       "      <td>transform</td>\n",
       "      <td>Transform Datetime feature into the boolean of...</td>\n",
       "    </tr>\n",
       "    <tr>\n",
       "      <th>22</th>\n",
       "      <td>week</td>\n",
       "      <td>transform</td>\n",
       "      <td>Transform a Datetime feature into the week.</td>\n",
       "    </tr>\n",
       "    <tr>\n",
       "      <th>23</th>\n",
       "      <td>cum_mean</td>\n",
       "      <td>transform</td>\n",
       "      <td>Calculates the mean of previous values of an i...</td>\n",
       "    </tr>\n",
       "    <tr>\n",
       "      <th>24</th>\n",
       "      <td>or</td>\n",
       "      <td>transform</td>\n",
       "      <td>For two boolean values, determine if one value...</td>\n",
       "    </tr>\n",
       "    <tr>\n",
       "      <th>25</th>\n",
       "      <td>add</td>\n",
       "      <td>transform</td>\n",
       "      <td>Creates a transform feature that adds two feat...</td>\n",
       "    </tr>\n",
       "    <tr>\n",
       "      <th>26</th>\n",
       "      <td>year</td>\n",
       "      <td>transform</td>\n",
       "      <td>Transform a Datetime feature into the year.</td>\n",
       "    </tr>\n",
       "    <tr>\n",
       "      <th>27</th>\n",
       "      <td>months</td>\n",
       "      <td>transform</td>\n",
       "      <td>Transform a Timedelta feature into the number ...</td>\n",
       "    </tr>\n",
       "    <tr>\n",
       "      <th>28</th>\n",
       "      <td>latitude</td>\n",
       "      <td>transform</td>\n",
       "      <td>Returns the first value of the tuple base feat...</td>\n",
       "    </tr>\n",
       "    <tr>\n",
       "      <th>29</th>\n",
       "      <td>weekday</td>\n",
       "      <td>transform</td>\n",
       "      <td>Transform Datetime feature into the boolean of...</td>\n",
       "    </tr>\n",
       "    <tr>\n",
       "      <th>...</th>\n",
       "      <td>...</td>\n",
       "      <td>...</td>\n",
       "      <td>...</td>\n",
       "    </tr>\n",
       "    <tr>\n",
       "      <th>32</th>\n",
       "      <td>subtract</td>\n",
       "      <td>transform</td>\n",
       "      <td>Creates a transform feature that subtracts two...</td>\n",
       "    </tr>\n",
       "    <tr>\n",
       "      <th>33</th>\n",
       "      <td>weeks</td>\n",
       "      <td>transform</td>\n",
       "      <td>Transform a Timedelta feature into the number ...</td>\n",
       "    </tr>\n",
       "    <tr>\n",
       "      <th>34</th>\n",
       "      <td>days</td>\n",
       "      <td>transform</td>\n",
       "      <td>Transform a Timedelta feature into the number ...</td>\n",
       "    </tr>\n",
       "    <tr>\n",
       "      <th>35</th>\n",
       "      <td>not</td>\n",
       "      <td>transform</td>\n",
       "      <td>For each value of the base feature, negates th...</td>\n",
       "    </tr>\n",
       "    <tr>\n",
       "      <th>36</th>\n",
       "      <td>percentile</td>\n",
       "      <td>transform</td>\n",
       "      <td>For each value of the base feature, determines...</td>\n",
       "    </tr>\n",
       "    <tr>\n",
       "      <th>37</th>\n",
       "      <td>hours</td>\n",
       "      <td>transform</td>\n",
       "      <td>Transform a Timedelta feature into the number ...</td>\n",
       "    </tr>\n",
       "    <tr>\n",
       "      <th>38</th>\n",
       "      <td>absolute</td>\n",
       "      <td>transform</td>\n",
       "      <td>Absolute value of base feature.</td>\n",
       "    </tr>\n",
       "    <tr>\n",
       "      <th>39</th>\n",
       "      <td>characters</td>\n",
       "      <td>transform</td>\n",
       "      <td>Return the characters in a given string.</td>\n",
       "    </tr>\n",
       "    <tr>\n",
       "      <th>40</th>\n",
       "      <td>haversine</td>\n",
       "      <td>transform</td>\n",
       "      <td>Calculate the approximate haversine distance i...</td>\n",
       "    </tr>\n",
       "    <tr>\n",
       "      <th>41</th>\n",
       "      <td>days_since</td>\n",
       "      <td>transform</td>\n",
       "      <td>For each value of the base feature, compute th...</td>\n",
       "    </tr>\n",
       "    <tr>\n",
       "      <th>42</th>\n",
       "      <td>cum_min</td>\n",
       "      <td>transform</td>\n",
       "      <td>Calculates the min of previous values of an in...</td>\n",
       "    </tr>\n",
       "    <tr>\n",
       "      <th>43</th>\n",
       "      <td>day</td>\n",
       "      <td>transform</td>\n",
       "      <td>Transform a Datetime feature into the day.</td>\n",
       "    </tr>\n",
       "    <tr>\n",
       "      <th>44</th>\n",
       "      <td>minutes</td>\n",
       "      <td>transform</td>\n",
       "      <td>Transform a Timedelta feature into the number ...</td>\n",
       "    </tr>\n",
       "    <tr>\n",
       "      <th>45</th>\n",
       "      <td>cum_sum</td>\n",
       "      <td>transform</td>\n",
       "      <td>Calculates the sum of previous values of an in...</td>\n",
       "    </tr>\n",
       "    <tr>\n",
       "      <th>46</th>\n",
       "      <td>and</td>\n",
       "      <td>transform</td>\n",
       "      <td>For two boolean values, determine if both valu...</td>\n",
       "    </tr>\n",
       "    <tr>\n",
       "      <th>47</th>\n",
       "      <td>mod</td>\n",
       "      <td>transform</td>\n",
       "      <td>Creates a transform feature that divides two f...</td>\n",
       "    </tr>\n",
       "    <tr>\n",
       "      <th>48</th>\n",
       "      <td>seconds</td>\n",
       "      <td>transform</td>\n",
       "      <td>Transform a Timedelta feature into the number ...</td>\n",
       "    </tr>\n",
       "    <tr>\n",
       "      <th>49</th>\n",
       "      <td>numwords</td>\n",
       "      <td>transform</td>\n",
       "      <td>Returns the words in a given string by countin...</td>\n",
       "    </tr>\n",
       "    <tr>\n",
       "      <th>50</th>\n",
       "      <td>years</td>\n",
       "      <td>transform</td>\n",
       "      <td>Transform a Timedelta feature into the number ...</td>\n",
       "    </tr>\n",
       "    <tr>\n",
       "      <th>51</th>\n",
       "      <td>month</td>\n",
       "      <td>transform</td>\n",
       "      <td>Transform a Datetime feature into the month.</td>\n",
       "    </tr>\n",
       "    <tr>\n",
       "      <th>52</th>\n",
       "      <td>hour</td>\n",
       "      <td>transform</td>\n",
       "      <td>Transform a Datetime feature into the hour.</td>\n",
       "    </tr>\n",
       "    <tr>\n",
       "      <th>53</th>\n",
       "      <td>multiply</td>\n",
       "      <td>transform</td>\n",
       "      <td>Creates a transform feature that multplies two...</td>\n",
       "    </tr>\n",
       "    <tr>\n",
       "      <th>54</th>\n",
       "      <td>isin</td>\n",
       "      <td>transform</td>\n",
       "      <td>For each value of the base feature, checks whe...</td>\n",
       "    </tr>\n",
       "    <tr>\n",
       "      <th>55</th>\n",
       "      <td>minute</td>\n",
       "      <td>transform</td>\n",
       "      <td>Transform a Datetime feature into the minute.</td>\n",
       "    </tr>\n",
       "    <tr>\n",
       "      <th>56</th>\n",
       "      <td>negate</td>\n",
       "      <td>transform</td>\n",
       "      <td>Creates a transform feature that negates a fea...</td>\n",
       "    </tr>\n",
       "    <tr>\n",
       "      <th>57</th>\n",
       "      <td>time_since</td>\n",
       "      <td>transform</td>\n",
       "      <td>Calculates time since the cutoff time.</td>\n",
       "    </tr>\n",
       "    <tr>\n",
       "      <th>58</th>\n",
       "      <td>cum_count</td>\n",
       "      <td>transform</td>\n",
       "      <td>Calculates the number of previous values of an...</td>\n",
       "    </tr>\n",
       "    <tr>\n",
       "      <th>59</th>\n",
       "      <td>is_null</td>\n",
       "      <td>transform</td>\n",
       "      <td>For each value of base feature, return 'True' ...</td>\n",
       "    </tr>\n",
       "    <tr>\n",
       "      <th>60</th>\n",
       "      <td>divide</td>\n",
       "      <td>transform</td>\n",
       "      <td>Creates a transform feature that divides two f...</td>\n",
       "    </tr>\n",
       "    <tr>\n",
       "      <th>61</th>\n",
       "      <td>diff</td>\n",
       "      <td>transform</td>\n",
       "      <td>Compute the difference between the value of a ...</td>\n",
       "    </tr>\n",
       "  </tbody>\n",
       "</table>\n",
       "<p>62 rows × 3 columns</p>\n",
       "</div>"
      ],
      "text/plain": [
       "                name         type  \\\n",
       "0               mode  aggregation   \n",
       "1               last  aggregation   \n",
       "2             median  aggregation   \n",
       "3                min  aggregation   \n",
       "4              trend  aggregation   \n",
       "5               mean  aggregation   \n",
       "6   avg_time_between  aggregation   \n",
       "7               skew  aggregation   \n",
       "8    time_since_last  aggregation   \n",
       "9       percent_true  aggregation   \n",
       "10               all  aggregation   \n",
       "11               sum  aggregation   \n",
       "12     n_most_common  aggregation   \n",
       "13          num_true  aggregation   \n",
       "14               max  aggregation   \n",
       "15             count  aggregation   \n",
       "16               any  aggregation   \n",
       "17        num_unique  aggregation   \n",
       "18               std  aggregation   \n",
       "19           cum_max    transform   \n",
       "20         longitude    transform   \n",
       "21           weekend    transform   \n",
       "22              week    transform   \n",
       "23          cum_mean    transform   \n",
       "24                or    transform   \n",
       "25               add    transform   \n",
       "26              year    transform   \n",
       "27            months    transform   \n",
       "28          latitude    transform   \n",
       "29           weekday    transform   \n",
       "..               ...          ...   \n",
       "32          subtract    transform   \n",
       "33             weeks    transform   \n",
       "34              days    transform   \n",
       "35               not    transform   \n",
       "36        percentile    transform   \n",
       "37             hours    transform   \n",
       "38          absolute    transform   \n",
       "39        characters    transform   \n",
       "40         haversine    transform   \n",
       "41        days_since    transform   \n",
       "42           cum_min    transform   \n",
       "43               day    transform   \n",
       "44           minutes    transform   \n",
       "45           cum_sum    transform   \n",
       "46               and    transform   \n",
       "47               mod    transform   \n",
       "48           seconds    transform   \n",
       "49          numwords    transform   \n",
       "50             years    transform   \n",
       "51             month    transform   \n",
       "52              hour    transform   \n",
       "53          multiply    transform   \n",
       "54              isin    transform   \n",
       "55            minute    transform   \n",
       "56            negate    transform   \n",
       "57        time_since    transform   \n",
       "58         cum_count    transform   \n",
       "59           is_null    transform   \n",
       "60            divide    transform   \n",
       "61              diff    transform   \n",
       "\n",
       "                                          description  \n",
       "0   Finds the most common element in a categorical...  \n",
       "1                             Returns the last value.  \n",
       "2   Finds the median value of any feature with wel...  \n",
       "3   Finds the minimum non-null value of a numeric ...  \n",
       "4   Calculates the slope of the linear trend of va...  \n",
       "5    Computes the average value of a numeric feature.  \n",
       "6   Computes the average time between consecutive ...  \n",
       "7                Computes the skewness of a data set.  \n",
       "8                   Time since last related instance.  \n",
       "9   Finds the percent of 'True' values in a boolea...  \n",
       "10                     Test if all values are 'True'.  \n",
       "11     Sums elements of a numeric or boolean feature.  \n",
       "12  Finds the N most common elements in a categori...  \n",
       "13    Finds the number of 'True' values in a boolean.  \n",
       "14  Finds the maximum non-null value of a numeric ...  \n",
       "15              Counts the number of non null values.  \n",
       "16                       Test if any value is 'True'.  \n",
       "17  Returns the number of unique categorical varia...  \n",
       "18  Finds the standard deviation of a numeric feat...  \n",
       "19  Calculates the max of previous values of an in...  \n",
       "20  Returns the second value on the tuple base fea...  \n",
       "21  Transform Datetime feature into the boolean of...  \n",
       "22        Transform a Datetime feature into the week.  \n",
       "23  Calculates the mean of previous values of an i...  \n",
       "24  For two boolean values, determine if one value...  \n",
       "25  Creates a transform feature that adds two feat...  \n",
       "26        Transform a Datetime feature into the year.  \n",
       "27  Transform a Timedelta feature into the number ...  \n",
       "28  Returns the first value of the tuple base feat...  \n",
       "29  Transform Datetime feature into the boolean of...  \n",
       "..                                                ...  \n",
       "32  Creates a transform feature that subtracts two...  \n",
       "33  Transform a Timedelta feature into the number ...  \n",
       "34  Transform a Timedelta feature into the number ...  \n",
       "35  For each value of the base feature, negates th...  \n",
       "36  For each value of the base feature, determines...  \n",
       "37  Transform a Timedelta feature into the number ...  \n",
       "38                    Absolute value of base feature.  \n",
       "39           Return the characters in a given string.  \n",
       "40  Calculate the approximate haversine distance i...  \n",
       "41  For each value of the base feature, compute th...  \n",
       "42  Calculates the min of previous values of an in...  \n",
       "43         Transform a Datetime feature into the day.  \n",
       "44  Transform a Timedelta feature into the number ...  \n",
       "45  Calculates the sum of previous values of an in...  \n",
       "46  For two boolean values, determine if both valu...  \n",
       "47  Creates a transform feature that divides two f...  \n",
       "48  Transform a Timedelta feature into the number ...  \n",
       "49  Returns the words in a given string by countin...  \n",
       "50  Transform a Timedelta feature into the number ...  \n",
       "51       Transform a Datetime feature into the month.  \n",
       "52        Transform a Datetime feature into the hour.  \n",
       "53  Creates a transform feature that multplies two...  \n",
       "54  For each value of the base feature, checks whe...  \n",
       "55      Transform a Datetime feature into the minute.  \n",
       "56  Creates a transform feature that negates a fea...  \n",
       "57             Calculates time since the cutoff time.  \n",
       "58  Calculates the number of previous values of an...  \n",
       "59  For each value of base feature, return 'True' ...  \n",
       "60  Creates a transform feature that divides two f...  \n",
       "61  Compute the difference between the value of a ...  \n",
       "\n",
       "[62 rows x 3 columns]"
      ]
     },
     "execution_count": 122,
     "metadata": {},
     "output_type": "execute_result"
    }
   ],
   "source": [
    "ft.primitives.list_primitives()"
   ]
  },
  {
   "cell_type": "code",
   "execution_count": 68,
   "metadata": {},
   "outputs": [
    {
     "data": {
      "text/html": [
       "<div>\n",
       "<style scoped>\n",
       "    .dataframe tbody tr th:only-of-type {\n",
       "        vertical-align: middle;\n",
       "    }\n",
       "\n",
       "    .dataframe tbody tr th {\n",
       "        vertical-align: top;\n",
       "    }\n",
       "\n",
       "    .dataframe thead th {\n",
       "        text-align: right;\n",
       "    }\n",
       "</style>\n",
       "<table border=\"1\" class=\"dataframe\">\n",
       "  <thead>\n",
       "    <tr style=\"text-align: right;\">\n",
       "      <th></th>\n",
       "      <th>arrive_dt</th>\n",
       "      <th>transaction_id</th>\n",
       "      <th>session_id</th>\n",
       "      <th>transaction_time</th>\n",
       "      <th>amount</th>\n",
       "      <th>customer_id</th>\n",
       "      <th>device</th>\n",
       "      <th>session_start</th>\n",
       "      <th>zip_code</th>\n",
       "      <th>join_date</th>\n",
       "      <th>depart_dt</th>\n",
       "      <th>date_hour</th>\n",
       "      <th>product_id</th>\n",
       "    </tr>\n",
       "  </thead>\n",
       "  <tbody>\n",
       "    <tr>\n",
       "      <th>2014-01-01 00:00:00</th>\n",
       "      <td>2014-01-01 00:00:00</td>\n",
       "      <td>352</td>\n",
       "      <td>1</td>\n",
       "      <td>2014-01-01 00:00:00</td>\n",
       "      <td>7.39</td>\n",
       "      <td>1</td>\n",
       "      <td>desktop</td>\n",
       "      <td>2014-01-01</td>\n",
       "      <td>60091</td>\n",
       "      <td>2008-01-01</td>\n",
       "      <td>2014-01-01 02:00:00</td>\n",
       "      <td>2014-01-01</td>\n",
       "      <td>4</td>\n",
       "    </tr>\n",
       "    <tr>\n",
       "      <th>2014-01-01 00:01:05</th>\n",
       "      <td>2014-01-01 00:01:05</td>\n",
       "      <td>186</td>\n",
       "      <td>1</td>\n",
       "      <td>2014-01-01 00:01:05</td>\n",
       "      <td>147.23</td>\n",
       "      <td>1</td>\n",
       "      <td>desktop</td>\n",
       "      <td>2014-01-01</td>\n",
       "      <td>60091</td>\n",
       "      <td>2008-01-01</td>\n",
       "      <td>2014-01-01 02:01:05</td>\n",
       "      <td>2014-01-01</td>\n",
       "      <td>4</td>\n",
       "    </tr>\n",
       "  </tbody>\n",
       "</table>\n",
       "</div>"
      ],
      "text/plain": [
       "                              arrive_dt  transaction_id  session_id  \\\n",
       "2014-01-01 00:00:00 2014-01-01 00:00:00             352           1   \n",
       "2014-01-01 00:01:05 2014-01-01 00:01:05             186           1   \n",
       "\n",
       "                       transaction_time  amount  customer_id   device  \\\n",
       "2014-01-01 00:00:00 2014-01-01 00:00:00    7.39            1  desktop   \n",
       "2014-01-01 00:01:05 2014-01-01 00:01:05  147.23            1  desktop   \n",
       "\n",
       "                    session_start zip_code  join_date           depart_dt  \\\n",
       "2014-01-01 00:00:00    2014-01-01    60091 2008-01-01 2014-01-01 02:00:00   \n",
       "2014-01-01 00:01:05    2014-01-01    60091 2008-01-01 2014-01-01 02:01:05   \n",
       "\n",
       "                     date_hour product_id  \n",
       "2014-01-01 00:00:00 2014-01-01          4  \n",
       "2014-01-01 00:01:05 2014-01-01          4  "
      ]
     },
     "execution_count": 68,
     "metadata": {},
     "output_type": "execute_result"
    }
   ],
   "source": [
    "es['transactions'].df.head(2)"
   ]
  },
  {
   "cell_type": "code",
   "execution_count": null,
   "metadata": {},
   "outputs": [],
   "source": []
  },
  {
   "cell_type": "code",
   "execution_count": null,
   "metadata": {},
   "outputs": [],
   "source": []
  },
  {
   "cell_type": "code",
   "execution_count": 38,
   "metadata": {},
   "outputs": [
    {
     "ename": "SyntaxError",
     "evalue": "'break' outside loop (<ipython-input-38-6aaf1f276005>, line 1)",
     "output_type": "error",
     "traceback": [
      "\u001b[1;36m  File \u001b[1;32m\"<ipython-input-38-6aaf1f276005>\"\u001b[1;36m, line \u001b[1;32m1\u001b[0m\n\u001b[1;33m    break\u001b[0m\n\u001b[1;37m         ^\u001b[0m\n\u001b[1;31mSyntaxError\u001b[0m\u001b[1;31m:\u001b[0m 'break' outside loop\n"
     ]
    }
   ],
   "source": [
    "break"
   ]
  },
  {
   "cell_type": "code",
   "execution_count": 2,
   "metadata": {},
   "outputs": [],
   "source": [
    "ED = pd.read_pickle('./../3_Data/SGH_ED_bk.pkl')"
   ]
  },
  {
   "cell_type": "code",
   "execution_count": 3,
   "metadata": {},
   "outputs": [],
   "source": [
    "IP = pd.read_pickle('./../3_Data/SGH_ward_BK.pkl')"
   ]
  },
  {
   "cell_type": "code",
   "execution_count": 4,
   "metadata": {},
   "outputs": [],
   "source": [
    "df = make_callender_columns(ED,'arrival','arr')"
   ]
  },
  {
   "cell_type": "code",
   "execution_count": 5,
   "metadata": {},
   "outputs": [],
   "source": [
    "i = 2000"
   ]
  },
  {
   "cell_type": "code",
   "execution_count": 6,
   "metadata": {},
   "outputs": [
    {
     "data": {
      "text/html": [
       "<div>\n",
       "<style scoped>\n",
       "    .dataframe tbody tr th:only-of-type {\n",
       "        vertical-align: middle;\n",
       "    }\n",
       "\n",
       "    .dataframe tbody tr th {\n",
       "        vertical-align: top;\n",
       "    }\n",
       "\n",
       "    .dataframe thead th {\n",
       "        text-align: right;\n",
       "    }\n",
       "</style>\n",
       "<table border=\"1\" class=\"dataframe\">\n",
       "  <thead>\n",
       "    <tr style=\"text-align: right;\">\n",
       "      <th></th>\n",
       "      <th>pseudo_patient_number</th>\n",
       "      <th>attendance_number</th>\n",
       "      <th>age</th>\n",
       "      <th>gender</th>\n",
       "      <th>department</th>\n",
       "      <th>site_attended</th>\n",
       "      <th>arrival</th>\n",
       "      <th>arrival_mode</th>\n",
       "      <th>arrival_mode_desc</th>\n",
       "      <th>1st_time_triaged_[datetime]</th>\n",
       "      <th>...</th>\n",
       "      <th>age_group</th>\n",
       "      <th>arr_hour</th>\n",
       "      <th>arr_dayofweek</th>\n",
       "      <th>arr_day</th>\n",
       "      <th>arr_month</th>\n",
       "      <th>arr_week</th>\n",
       "      <th>arr_dayofweek_name</th>\n",
       "      <th>arr_year</th>\n",
       "      <th>arr_date</th>\n",
       "      <th>arr_flag_wkend</th>\n",
       "    </tr>\n",
       "  </thead>\n",
       "  <tbody>\n",
       "    <tr>\n",
       "      <th>0</th>\n",
       "      <td>4101045105</td>\n",
       "      <td>90902325901</td>\n",
       "      <td>94.0</td>\n",
       "      <td>F</td>\n",
       "      <td>Main ED</td>\n",
       "      <td>Main ED</td>\n",
       "      <td>2009-04-13 09:16:00</td>\n",
       "      <td>NaN</td>\n",
       "      <td>BROUGHT IN BY AMBULANCE</td>\n",
       "      <td>NaT</td>\n",
       "      <td>...</td>\n",
       "      <td>75+</td>\n",
       "      <td>9</td>\n",
       "      <td>0</td>\n",
       "      <td>13</td>\n",
       "      <td>4</td>\n",
       "      <td>16</td>\n",
       "      <td>Monday</td>\n",
       "      <td>2009</td>\n",
       "      <td>2009-04-13</td>\n",
       "      <td>0</td>\n",
       "    </tr>\n",
       "    <tr>\n",
       "      <th>1</th>\n",
       "      <td>644868441371</td>\n",
       "      <td>90902326101</td>\n",
       "      <td>47.0</td>\n",
       "      <td>M</td>\n",
       "      <td>Main ED</td>\n",
       "      <td>Main ED</td>\n",
       "      <td>2009-04-13 09:22:00</td>\n",
       "      <td>NaN</td>\n",
       "      <td>BROUGHT IN BY AMBULANCE</td>\n",
       "      <td>NaT</td>\n",
       "      <td>...</td>\n",
       "      <td>36-64</td>\n",
       "      <td>9</td>\n",
       "      <td>0</td>\n",
       "      <td>13</td>\n",
       "      <td>4</td>\n",
       "      <td>16</td>\n",
       "      <td>Monday</td>\n",
       "      <td>2009</td>\n",
       "      <td>2009-04-13</td>\n",
       "      <td>0</td>\n",
       "    </tr>\n",
       "  </tbody>\n",
       "</table>\n",
       "<p>2 rows × 29 columns</p>\n",
       "</div>"
      ],
      "text/plain": [
       "  pseudo_patient_number  attendance_number   age gender department  \\\n",
       "0            4101045105        90902325901  94.0      F    Main ED   \n",
       "1          644868441371        90902326101  47.0      M    Main ED   \n",
       "\n",
       "  site_attended             arrival arrival_mode        arrival_mode_desc  \\\n",
       "0       Main ED 2009-04-13 09:16:00          NaN  BROUGHT IN BY AMBULANCE   \n",
       "1       Main ED 2009-04-13 09:22:00          NaN  BROUGHT IN BY AMBULANCE   \n",
       "\n",
       "  1st_time_triaged_[datetime]      ...       age_group arr_hour arr_dayofweek  \\\n",
       "0                         NaT      ...             75+        9             0   \n",
       "1                         NaT      ...           36-64        9             0   \n",
       "\n",
       "  arr_day arr_month arr_week  arr_dayofweek_name arr_year    arr_date  \\\n",
       "0      13         4       16              Monday     2009  2009-04-13   \n",
       "1      13         4       16              Monday     2009  2009-04-13   \n",
       "\n",
       "  arr_flag_wkend  \n",
       "0              0  \n",
       "1              0  \n",
       "\n",
       "[2 rows x 29 columns]"
      ]
     },
     "execution_count": 6,
     "metadata": {},
     "output_type": "execute_result"
    }
   ],
   "source": [
    "ED.head(2)"
   ]
  },
  {
   "cell_type": "code",
   "execution_count": 7,
   "metadata": {},
   "outputs": [
    {
     "data": {
      "text/plain": [
       "pseudo_patient_number                 1\n",
       "attendance_number                     0\n",
       "age                                  10\n",
       "gender                               10\n",
       "department                            0\n",
       "site_attended                         0\n",
       "arrival                               0\n",
       "arrival_mode                     269946\n",
       "arrival_mode_desc                     0\n",
       "1st_time_triaged_[datetime]      280630\n",
       "1st_time_seen_by_doctor           76978\n",
       "time_of_inpatient_bed_request    658458\n",
       "time_of_speciality_referral      653702\n",
       "speciality_referred_to           653703\n",
       "time_into_cdu                    816058\n",
       "time_leaving_dept_inc_cdu             0\n",
       "admission_flag                        0\n",
       "majorsminorsresus_patient        114766\n",
       "triage_category                  639560\n",
       "age_group                            10\n",
       "arr_hour                              0\n",
       "arr_dayofweek                         0\n",
       "arr_day                               0\n",
       "arr_month                             0\n",
       "arr_week                              0\n",
       "arr_dayofweek_name                    0\n",
       "arr_year                              0\n",
       "arr_date                              0\n",
       "arr_flag_wkend                        0\n",
       "dtype: int64"
      ]
     },
     "execution_count": 7,
     "metadata": {},
     "output_type": "execute_result"
    }
   ],
   "source": [
    "ED.isnull().sum()"
   ]
  },
  {
   "cell_type": "markdown",
   "metadata": {},
   "source": [
    "# clean ED"
   ]
  },
  {
   "cell_type": "code",
   "execution_count": 8,
   "metadata": {},
   "outputs": [
    {
     "data": {
      "text/plain": [
       "OTHER                      566738\n",
       "BROUGHT IN BY AMBULANCE    347099\n",
       "Name: arrival_mode_desc, dtype: int64"
      ]
     },
     "execution_count": 8,
     "metadata": {},
     "output_type": "execute_result"
    }
   ],
   "source": [
    "ED.arrival_mode_desc.value_counts()"
   ]
  },
  {
   "cell_type": "code",
   "execution_count": 9,
   "metadata": {},
   "outputs": [],
   "source": [
    "ED['arrival_mode_desc_bool'] = ED.arrival_mode_desc == 'BROUGHT IN BY AMBULANCE'"
   ]
  },
  {
   "cell_type": "code",
   "execution_count": 10,
   "metadata": {},
   "outputs": [
    {
     "data": {
      "text/plain": [
       "False    566738\n",
       "True     347099\n",
       "Name: arrival_mode_desc_bool, dtype: int64"
      ]
     },
     "execution_count": 10,
     "metadata": {},
     "output_type": "execute_result"
    }
   ],
   "source": [
    "ED['arrival_mode_desc_bool'].value_counts()"
   ]
  },
  {
   "cell_type": "code",
   "execution_count": 11,
   "metadata": {},
   "outputs": [],
   "source": [
    "ED['admission_flag_bool'] = ED.admission_flag == 1"
   ]
  },
  {
   "cell_type": "code",
   "execution_count": 12,
   "metadata": {},
   "outputs": [
    {
     "data": {
      "text/plain": [
       "False    559945\n",
       "True     353892\n",
       "Name: admission_flag_bool, dtype: int64"
      ]
     },
     "execution_count": 12,
     "metadata": {},
     "output_type": "execute_result"
    }
   ],
   "source": [
    "ED['admission_flag_bool'].value_counts()"
   ]
  },
  {
   "cell_type": "markdown",
   "metadata": {},
   "source": [
    "# create es"
   ]
  },
  {
   "cell_type": "code",
   "execution_count": 13,
   "metadata": {},
   "outputs": [],
   "source": [
    "es = ft.EntitySet(id='activity')"
   ]
  },
  {
   "cell_type": "code",
   "execution_count": 14,
   "metadata": {},
   "outputs": [
    {
     "data": {
      "text/plain": [
       "Entityset: activity\n",
       "  Entities:\n",
       "  Relationships:\n",
       "    No relationships"
      ]
     },
     "execution_count": 14,
     "metadata": {},
     "output_type": "execute_result"
    }
   ],
   "source": [
    "es"
   ]
  },
  {
   "cell_type": "code",
   "execution_count": 15,
   "metadata": {},
   "outputs": [
    {
     "data": {
      "text/plain": [
       "dtype('<M8[ns]')"
      ]
     },
     "execution_count": 15,
     "metadata": {},
     "output_type": "execute_result"
    }
   ],
   "source": [
    "ED.arrival.dtypes"
   ]
  },
  {
   "cell_type": "code",
   "execution_count": 16,
   "metadata": {},
   "outputs": [],
   "source": [
    "df_ed = ED[['pseudo_patient_number','age','gender',\n",
    "                    'attendance_number','arrival_mode_desc_bool',\n",
    "                    'arrival','arr_date',\n",
    "            'admission_flag'\n",
    "                   ]]"
   ]
  },
  {
   "cell_type": "markdown",
   "metadata": {},
   "source": [
    "for i in ED.columns:\n",
    "    print(i)\n",
    "    print(ED[i].dtype)"
   ]
  },
  {
   "cell_type": "code",
   "execution_count": 17,
   "metadata": {},
   "outputs": [
    {
     "data": {
      "text/html": [
       "<div>\n",
       "<style scoped>\n",
       "    .dataframe tbody tr th:only-of-type {\n",
       "        vertical-align: middle;\n",
       "    }\n",
       "\n",
       "    .dataframe tbody tr th {\n",
       "        vertical-align: top;\n",
       "    }\n",
       "\n",
       "    .dataframe thead th {\n",
       "        text-align: right;\n",
       "    }\n",
       "</style>\n",
       "<table border=\"1\" class=\"dataframe\">\n",
       "  <thead>\n",
       "    <tr style=\"text-align: right;\">\n",
       "      <th></th>\n",
       "      <th>pseudo_patient_number</th>\n",
       "      <th>age</th>\n",
       "      <th>gender</th>\n",
       "      <th>attendance_number</th>\n",
       "      <th>arrival_mode_desc_bool</th>\n",
       "      <th>arrival</th>\n",
       "      <th>arr_date</th>\n",
       "      <th>admission_flag</th>\n",
       "    </tr>\n",
       "  </thead>\n",
       "  <tbody>\n",
       "    <tr>\n",
       "      <th>0</th>\n",
       "      <td>4101045105</td>\n",
       "      <td>94.0</td>\n",
       "      <td>F</td>\n",
       "      <td>90902325901</td>\n",
       "      <td>True</td>\n",
       "      <td>2009-04-13 09:16:00</td>\n",
       "      <td>2009-04-13</td>\n",
       "      <td>0</td>\n",
       "    </tr>\n",
       "    <tr>\n",
       "      <th>1</th>\n",
       "      <td>644868441371</td>\n",
       "      <td>47.0</td>\n",
       "      <td>M</td>\n",
       "      <td>90902326101</td>\n",
       "      <td>True</td>\n",
       "      <td>2009-04-13 09:22:00</td>\n",
       "      <td>2009-04-13</td>\n",
       "      <td>1</td>\n",
       "    </tr>\n",
       "    <tr>\n",
       "      <th>2</th>\n",
       "      <td>668666687357</td>\n",
       "      <td>0.0</td>\n",
       "      <td>M</td>\n",
       "      <td>90902326501</td>\n",
       "      <td>False</td>\n",
       "      <td>2009-04-13 09:31:00</td>\n",
       "      <td>2009-04-13</td>\n",
       "      <td>1</td>\n",
       "    </tr>\n",
       "    <tr>\n",
       "      <th>3</th>\n",
       "      <td>446747461391</td>\n",
       "      <td>4.0</td>\n",
       "      <td>M</td>\n",
       "      <td>90902328601</td>\n",
       "      <td>False</td>\n",
       "      <td>2009-04-13 10:52:00</td>\n",
       "      <td>2009-04-13</td>\n",
       "      <td>0</td>\n",
       "    </tr>\n",
       "    <tr>\n",
       "      <th>4</th>\n",
       "      <td>423646238168</td>\n",
       "      <td>31.0</td>\n",
       "      <td>F</td>\n",
       "      <td>90902328801</td>\n",
       "      <td>True</td>\n",
       "      <td>2009-04-13 11:18:00</td>\n",
       "      <td>2009-04-13</td>\n",
       "      <td>1</td>\n",
       "    </tr>\n",
       "  </tbody>\n",
       "</table>\n",
       "</div>"
      ],
      "text/plain": [
       "  pseudo_patient_number   age gender  attendance_number  \\\n",
       "0            4101045105  94.0      F        90902325901   \n",
       "1          644868441371  47.0      M        90902326101   \n",
       "2          668666687357   0.0      M        90902326501   \n",
       "3          446747461391   4.0      M        90902328601   \n",
       "4          423646238168  31.0      F        90902328801   \n",
       "\n",
       "   arrival_mode_desc_bool             arrival    arr_date  admission_flag  \n",
       "0                    True 2009-04-13 09:16:00  2009-04-13               0  \n",
       "1                    True 2009-04-13 09:22:00  2009-04-13               1  \n",
       "2                   False 2009-04-13 09:31:00  2009-04-13               1  \n",
       "3                   False 2009-04-13 10:52:00  2009-04-13               0  \n",
       "4                    True 2009-04-13 11:18:00  2009-04-13               1  "
      ]
     },
     "execution_count": 17,
     "metadata": {},
     "output_type": "execute_result"
    }
   ],
   "source": [
    "df_ed.head()"
   ]
  },
  {
   "cell_type": "code",
   "execution_count": 18,
   "metadata": {},
   "outputs": [
    {
     "data": {
      "text/html": [
       "<div>\n",
       "<style scoped>\n",
       "    .dataframe tbody tr th:only-of-type {\n",
       "        vertical-align: middle;\n",
       "    }\n",
       "\n",
       "    .dataframe tbody tr th {\n",
       "        vertical-align: top;\n",
       "    }\n",
       "\n",
       "    .dataframe thead th {\n",
       "        text-align: right;\n",
       "    }\n",
       "</style>\n",
       "<table border=\"1\" class=\"dataframe\">\n",
       "  <thead>\n",
       "    <tr style=\"text-align: right;\">\n",
       "      <th></th>\n",
       "      <th>pseudo_patient_number</th>\n",
       "      <th>age</th>\n",
       "      <th>gender</th>\n",
       "      <th>attendance_number</th>\n",
       "      <th>arrival_mode_desc_bool</th>\n",
       "      <th>arrival</th>\n",
       "      <th>arr_date</th>\n",
       "      <th>admission_flag</th>\n",
       "    </tr>\n",
       "  </thead>\n",
       "  <tbody>\n",
       "    <tr>\n",
       "      <th>1124659</th>\n",
       "      <td>497545978018</td>\n",
       "      <td>69.0</td>\n",
       "      <td>F</td>\n",
       "      <td>91803566401</td>\n",
       "      <td>True</td>\n",
       "      <td>2018-05-04 12:00:00</td>\n",
       "      <td>2018-05-04</td>\n",
       "      <td>0</td>\n",
       "    </tr>\n",
       "    <tr>\n",
       "      <th>1124671</th>\n",
       "      <td>812787124394</td>\n",
       "      <td>73.0</td>\n",
       "      <td>M</td>\n",
       "      <td>91804244501</td>\n",
       "      <td>True</td>\n",
       "      <td>2018-05-26 11:31:00</td>\n",
       "      <td>2018-05-26</td>\n",
       "      <td>1</td>\n",
       "    </tr>\n",
       "    <tr>\n",
       "      <th>1124673</th>\n",
       "      <td>073505730740</td>\n",
       "      <td>2.0</td>\n",
       "      <td>F</td>\n",
       "      <td>91803579801</td>\n",
       "      <td>False</td>\n",
       "      <td>2018-05-04 19:37:00</td>\n",
       "      <td>2018-05-04</td>\n",
       "      <td>0</td>\n",
       "    </tr>\n",
       "    <tr>\n",
       "      <th>1124681</th>\n",
       "      <td>757373573113</td>\n",
       "      <td>93.0</td>\n",
       "      <td>M</td>\n",
       "      <td>91804272201</td>\n",
       "      <td>True</td>\n",
       "      <td>2018-05-27 06:17:00</td>\n",
       "      <td>2018-05-27</td>\n",
       "      <td>1</td>\n",
       "    </tr>\n",
       "    <tr>\n",
       "      <th>1124686</th>\n",
       "      <td>854787547747</td>\n",
       "      <td>37.0</td>\n",
       "      <td>M</td>\n",
       "      <td>91804267301</td>\n",
       "      <td>True</td>\n",
       "      <td>2018-05-27 00:13:00</td>\n",
       "      <td>2018-05-27</td>\n",
       "      <td>0</td>\n",
       "    </tr>\n",
       "  </tbody>\n",
       "</table>\n",
       "</div>"
      ],
      "text/plain": [
       "        pseudo_patient_number   age gender  attendance_number  \\\n",
       "1124659          497545978018  69.0      F        91803566401   \n",
       "1124671          812787124394  73.0      M        91804244501   \n",
       "1124673          073505730740   2.0      F        91803579801   \n",
       "1124681          757373573113  93.0      M        91804272201   \n",
       "1124686          854787547747  37.0      M        91804267301   \n",
       "\n",
       "         arrival_mode_desc_bool             arrival    arr_date  \\\n",
       "1124659                    True 2018-05-04 12:00:00  2018-05-04   \n",
       "1124671                    True 2018-05-26 11:31:00  2018-05-26   \n",
       "1124673                   False 2018-05-04 19:37:00  2018-05-04   \n",
       "1124681                    True 2018-05-27 06:17:00  2018-05-27   \n",
       "1124686                    True 2018-05-27 00:13:00  2018-05-27   \n",
       "\n",
       "         admission_flag  \n",
       "1124659               0  \n",
       "1124671               1  \n",
       "1124673               0  \n",
       "1124681               1  \n",
       "1124686               0  "
      ]
     },
     "execution_count": 18,
     "metadata": {},
     "output_type": "execute_result"
    }
   ],
   "source": [
    "df_ed.tail()"
   ]
  },
  {
   "cell_type": "code",
   "execution_count": 19,
   "metadata": {},
   "outputs": [
    {
     "data": {
      "text/plain": [
       "Timestamp('2009-04-13 09:16:00')"
      ]
     },
     "execution_count": 19,
     "metadata": {},
     "output_type": "execute_result"
    }
   ],
   "source": [
    "df_ed.loc[0].arrival"
   ]
  },
  {
   "cell_type": "code",
   "execution_count": 20,
   "metadata": {},
   "outputs": [
    {
     "data": {
      "text/plain": [
       "dtype('<M8[ns]')"
      ]
     },
     "execution_count": 20,
     "metadata": {},
     "output_type": "execute_result"
    }
   ],
   "source": [
    "df_ed.arrival.dtype"
   ]
  },
  {
   "cell_type": "code",
   "execution_count": 21,
   "metadata": {},
   "outputs": [
    {
     "data": {
      "text/plain": [
       "featuretools.variable_types.variable.Numeric"
      ]
     },
     "execution_count": 21,
     "metadata": {},
     "output_type": "execute_result"
    }
   ],
   "source": [
    "ft.variable_types.Numeric"
   ]
  },
  {
   "cell_type": "code",
   "execution_count": 22,
   "metadata": {},
   "outputs": [],
   "source": [
    "es = es.entity_from_dataframe(entity_id='EDatt',\n",
    "                        dataframe=df_ed,\n",
    "                        index='attendance_number',\n",
    "                        time_index='arrival',\n",
    "                             variable_types={'arrival':ft.variable_types.Datetime,\n",
    "                                            'arr_date':ft.variable_types.Datetime,\n",
    "                                             'pseudo_patient_number':ft.variable_types.Numeric,\n",
    "                                             'age':ft.variable_types.Numeric,\n",
    "                                             'attendance_number':ft.variable_types.Numeric\n",
    "})"
   ]
  },
  {
   "cell_type": "code",
   "execution_count": 23,
   "metadata": {},
   "outputs": [
    {
     "data": {
      "text/plain": [
       "Entityset: activity\n",
       "  Entities:\n",
       "    EDatt [Rows: 913837, Columns: 8]\n",
       "  Relationships:\n",
       "    No relationships"
      ]
     },
     "execution_count": 23,
     "metadata": {},
     "output_type": "execute_result"
    }
   ],
   "source": [
    "es"
   ]
  },
  {
   "cell_type": "code",
   "execution_count": 24,
   "metadata": {},
   "outputs": [
    {
     "data": {
      "text/plain": [
       "Entity: EDatt\n",
       "  Variables:\n",
       "    attendance_number (dtype: index)\n",
       "    gender (dtype: categorical)\n",
       "    arrival_mode_desc_bool (dtype: boolean)\n",
       "    admission_flag (dtype: numeric)\n",
       "    arrival (dtype: datetime_time_index)\n",
       "    arr_date (dtype: datetime)\n",
       "    pseudo_patient_number (dtype: numeric)\n",
       "    age (dtype: numeric)\n",
       "  Shape:\n",
       "    (Rows: 913837, Columns: 8)"
      ]
     },
     "execution_count": 24,
     "metadata": {},
     "output_type": "execute_result"
    }
   ],
   "source": [
    "es['EDatt']"
   ]
  },
  {
   "cell_type": "markdown",
   "metadata": {},
   "source": [
    "#### make patient table"
   ]
  },
  {
   "cell_type": "code",
   "execution_count": 25,
   "metadata": {},
   "outputs": [],
   "source": [
    "es = es.normalize_entity(base_entity_id='EDatt',\n",
    "                   new_entity_id ='patients',\n",
    "                   index='pseudo_patient_number',\n",
    "                         make_time_index=True,\n",
    "                   additional_variables=['gender'])"
   ]
  },
  {
   "cell_type": "code",
   "execution_count": 26,
   "metadata": {},
   "outputs": [
    {
     "data": {
      "text/plain": [
       "Entity: patients\n",
       "  Variables:\n",
       "    pseudo_patient_number (dtype: index)\n",
       "    gender (dtype: categorical)\n",
       "    first_EDatt_time (dtype: datetime_time_index)\n",
       "  Shape:\n",
       "    (Rows: 399661, Columns: 3)"
      ]
     },
     "execution_count": 26,
     "metadata": {},
     "output_type": "execute_result"
    }
   ],
   "source": [
    "es['patients']"
   ]
  },
  {
   "cell_type": "markdown",
   "metadata": {},
   "source": [
    "#### create a day table - by normalising a new feature"
   ]
  },
  {
   "cell_type": "code",
   "execution_count": 27,
   "metadata": {},
   "outputs": [],
   "source": [
    "es = es.normalize_entity(base_entity_id='EDatt',\n",
    "                   new_entity_id=\"days\",\n",
    "                    index=\"arr_date\")"
   ]
  },
  {
   "cell_type": "markdown",
   "metadata": {},
   "source": [
    "#### import hourly table"
   ]
  },
  {
   "cell_type": "code",
   "execution_count": 28,
   "metadata": {},
   "outputs": [],
   "source": [
    "hrly = pd.read_pickle('./../3_Data/processed/sgh/sghHOURLY.pkl')"
   ]
  },
  {
   "cell_type": "code",
   "execution_count": 29,
   "metadata": {},
   "outputs": [
    {
     "data": {
      "text/plain": [
       "Index(['EDocc_nonadmit', 'EDocc_admit', 'EDocc_total', 'EDocc_awaitingadm',\n",
       "       'EDocc_nonbreach', 'EDocc_breach', 'IPocc_NonElective',\n",
       "       'IPocc_Day_Case', 'IPocc_Elective', 'IPocc_total', 'IPocc_elec_nonelec',\n",
       "       'IPadm', 'IPadm_nonelec', 'IPadm_daycase', 'IPadm_elective', 'IPdis',\n",
       "       'IPdis_nonelec', 'IPdis_daycase', 'IPdis_elective',\n",
       "       'IPadm_elec_nonelec', 'IPdis_elec_nonelec', 'EDarrive',\n",
       "       'EDarrive_breach', 'EDarrive_adm', 'EDdepart', 'EDdepart_breach',\n",
       "       'EDdepart_adm', 'datetime', 'dt_hour', 'dt_dayofweek', 'dt_day',\n",
       "       'dt_month', 'dt_week', 'dt_dayofweek_name', 'dt_year', 'dt_date',\n",
       "       'dt_flag_wkend'],\n",
       "      dtype='object')"
      ]
     },
     "execution_count": 29,
     "metadata": {},
     "output_type": "execute_result"
    }
   ],
   "source": [
    "hrly.columns"
   ]
  },
  {
   "cell_type": "code",
   "execution_count": 30,
   "metadata": {},
   "outputs": [],
   "source": [
    "hrly2 = hrly[['dt_date','EDocc_nonadmit', 'EDocc_admit', 'EDocc_total', 'EDocc_awaitingadm',\n",
    "       'EDocc_nonbreach', 'EDocc_breach', 'IPocc_NonElective',\n",
    "       'IPocc_Day_Case', 'IPocc_Elective', 'IPocc_total', 'IPocc_elec_nonelec',\n",
    "       'IPadm', 'IPadm_nonelec', 'IPadm_daycase', 'IPadm_elective', 'IPdis',\n",
    "       'IPdis_nonelec', 'IPdis_daycase', 'IPdis_elective',\n",
    "       'IPadm_elec_nonelec', 'IPdis_elec_nonelec', 'EDarrive',\n",
    "       'EDarrive_breach', 'EDarrive_adm', 'EDdepart', 'EDdepart_breach',\n",
    "       'EDdepart_adm']].reset_index()"
   ]
  },
  {
   "cell_type": "code",
   "execution_count": 31,
   "metadata": {},
   "outputs": [
    {
     "data": {
      "text/plain": [
       "Entityset: activity\n",
       "  Entities:\n",
       "    EDatt [Rows: 913837, Columns: 7]\n",
       "    patients [Rows: 399661, Columns: 3]\n",
       "    days [Rows: 3470, Columns: 2]\n",
       "    hourly [Rows: 83295, Columns: 29]\n",
       "  Relationships:\n",
       "    EDatt.pseudo_patient_number -> patients.pseudo_patient_number\n",
       "    EDatt.arr_date -> days.arr_date"
      ]
     },
     "execution_count": 31,
     "metadata": {},
     "output_type": "execute_result"
    }
   ],
   "source": [
    "es.entity_from_dataframe(entity_id='hourly',dataframe=hrly2,index='index')"
   ]
  },
  {
   "cell_type": "code",
   "execution_count": 32,
   "metadata": {},
   "outputs": [],
   "source": [
    "new_relationship = ft.Relationship(es[\"days\"][\"arr_date\"],\n",
    "                                    es[\"hourly\"][\"dt_date\"])\n",
    "\n",
    "es = es.add_relationship(new_relationship)"
   ]
  },
  {
   "cell_type": "code",
   "execution_count": 33,
   "metadata": {},
   "outputs": [
    {
     "data": {
      "text/html": [
       "<div>\n",
       "<style scoped>\n",
       "    .dataframe tbody tr th:only-of-type {\n",
       "        vertical-align: middle;\n",
       "    }\n",
       "\n",
       "    .dataframe tbody tr th {\n",
       "        vertical-align: top;\n",
       "    }\n",
       "\n",
       "    .dataframe thead th {\n",
       "        text-align: right;\n",
       "    }\n",
       "</style>\n",
       "<table border=\"1\" class=\"dataframe\">\n",
       "  <thead>\n",
       "    <tr style=\"text-align: right;\">\n",
       "      <th></th>\n",
       "      <th>index</th>\n",
       "      <th>dt_date</th>\n",
       "      <th>EDocc_nonadmit</th>\n",
       "      <th>EDocc_admit</th>\n",
       "      <th>EDocc_total</th>\n",
       "      <th>EDocc_awaitingadm</th>\n",
       "      <th>EDocc_nonbreach</th>\n",
       "      <th>EDocc_breach</th>\n",
       "      <th>IPocc_NonElective</th>\n",
       "      <th>IPocc_Day_Case</th>\n",
       "      <th>...</th>\n",
       "      <th>IPdis_daycase</th>\n",
       "      <th>IPdis_elective</th>\n",
       "      <th>IPadm_elec_nonelec</th>\n",
       "      <th>IPdis_elec_nonelec</th>\n",
       "      <th>EDarrive</th>\n",
       "      <th>EDarrive_breach</th>\n",
       "      <th>EDarrive_adm</th>\n",
       "      <th>EDdepart</th>\n",
       "      <th>EDdepart_breach</th>\n",
       "      <th>EDdepart_adm</th>\n",
       "    </tr>\n",
       "  </thead>\n",
       "  <tbody>\n",
       "    <tr>\n",
       "      <th>2009-04-01 00:00:00</th>\n",
       "      <td>2009-04-01 00:00:00</td>\n",
       "      <td>2009-04-01</td>\n",
       "      <td>0.0</td>\n",
       "      <td>0.0</td>\n",
       "      <td>0.0</td>\n",
       "      <td>0.0</td>\n",
       "      <td>0.0</td>\n",
       "      <td>0.0</td>\n",
       "      <td>0.0</td>\n",
       "      <td>0.0</td>\n",
       "      <td>...</td>\n",
       "      <td>0.0</td>\n",
       "      <td>0.0</td>\n",
       "      <td>0.0</td>\n",
       "      <td>0.0</td>\n",
       "      <td>6.0</td>\n",
       "      <td>3.0</td>\n",
       "      <td>4.0</td>\n",
       "      <td>0.0</td>\n",
       "      <td>0.0</td>\n",
       "      <td>0.0</td>\n",
       "    </tr>\n",
       "    <tr>\n",
       "      <th>2009-04-01 01:00:00</th>\n",
       "      <td>2009-04-01 01:00:00</td>\n",
       "      <td>2009-04-01</td>\n",
       "      <td>2.0</td>\n",
       "      <td>4.0</td>\n",
       "      <td>6.0</td>\n",
       "      <td>0.0</td>\n",
       "      <td>3.0</td>\n",
       "      <td>3.0</td>\n",
       "      <td>3.0</td>\n",
       "      <td>2.0</td>\n",
       "      <td>...</td>\n",
       "      <td>0.0</td>\n",
       "      <td>0.0</td>\n",
       "      <td>0.0</td>\n",
       "      <td>0.0</td>\n",
       "      <td>6.0</td>\n",
       "      <td>3.0</td>\n",
       "      <td>4.0</td>\n",
       "      <td>1.0</td>\n",
       "      <td>0.0</td>\n",
       "      <td>0.0</td>\n",
       "    </tr>\n",
       "  </tbody>\n",
       "</table>\n",
       "<p>2 rows × 29 columns</p>\n",
       "</div>"
      ],
      "text/plain": [
       "                                  index    dt_date  EDocc_nonadmit  \\\n",
       "2009-04-01 00:00:00 2009-04-01 00:00:00 2009-04-01             0.0   \n",
       "2009-04-01 01:00:00 2009-04-01 01:00:00 2009-04-01             2.0   \n",
       "\n",
       "                     EDocc_admit  EDocc_total  EDocc_awaitingadm  \\\n",
       "2009-04-01 00:00:00          0.0          0.0                0.0   \n",
       "2009-04-01 01:00:00          4.0          6.0                0.0   \n",
       "\n",
       "                     EDocc_nonbreach  EDocc_breach  IPocc_NonElective  \\\n",
       "2009-04-01 00:00:00              0.0           0.0                0.0   \n",
       "2009-04-01 01:00:00              3.0           3.0                3.0   \n",
       "\n",
       "                     IPocc_Day_Case      ...       IPdis_daycase  \\\n",
       "2009-04-01 00:00:00             0.0      ...                 0.0   \n",
       "2009-04-01 01:00:00             2.0      ...                 0.0   \n",
       "\n",
       "                     IPdis_elective  IPadm_elec_nonelec  IPdis_elec_nonelec  \\\n",
       "2009-04-01 00:00:00             0.0                 0.0                 0.0   \n",
       "2009-04-01 01:00:00             0.0                 0.0                 0.0   \n",
       "\n",
       "                     EDarrive  EDarrive_breach  EDarrive_adm  EDdepart  \\\n",
       "2009-04-01 00:00:00       6.0              3.0           4.0       0.0   \n",
       "2009-04-01 01:00:00       6.0              3.0           4.0       1.0   \n",
       "\n",
       "                     EDdepart_breach  EDdepart_adm  \n",
       "2009-04-01 00:00:00              0.0           0.0  \n",
       "2009-04-01 01:00:00              0.0           0.0  \n",
       "\n",
       "[2 rows x 29 columns]"
      ]
     },
     "execution_count": 33,
     "metadata": {},
     "output_type": "execute_result"
    }
   ],
   "source": [
    "es['hourly'].df.head(2)"
   ]
  },
  {
   "cell_type": "code",
   "execution_count": null,
   "metadata": {},
   "outputs": [],
   "source": []
  },
  {
   "cell_type": "markdown",
   "metadata": {},
   "source": [
    "# summary of esets"
   ]
  },
  {
   "cell_type": "code",
   "execution_count": 34,
   "metadata": {},
   "outputs": [
    {
     "data": {
      "text/plain": [
       "Entityset: activity\n",
       "  Entities:\n",
       "    EDatt [Rows: 913837, Columns: 7]\n",
       "    patients [Rows: 399661, Columns: 3]\n",
       "    days [Rows: 3470, Columns: 2]\n",
       "    hourly [Rows: 83295, Columns: 29]\n",
       "  Relationships:\n",
       "    EDatt.pseudo_patient_number -> patients.pseudo_patient_number\n",
       "    EDatt.arr_date -> days.arr_date\n",
       "    hourly.dt_date -> days.arr_date"
      ]
     },
     "execution_count": 34,
     "metadata": {},
     "output_type": "execute_result"
    }
   ],
   "source": [
    "es"
   ]
  },
  {
   "cell_type": "code",
   "execution_count": 35,
   "metadata": {},
   "outputs": [
    {
     "data": {
      "text/html": [
       "<div>\n",
       "<style scoped>\n",
       "    .dataframe tbody tr th:only-of-type {\n",
       "        vertical-align: middle;\n",
       "    }\n",
       "\n",
       "    .dataframe tbody tr th {\n",
       "        vertical-align: top;\n",
       "    }\n",
       "\n",
       "    .dataframe thead th {\n",
       "        text-align: right;\n",
       "    }\n",
       "</style>\n",
       "<table border=\"1\" class=\"dataframe\">\n",
       "  <thead>\n",
       "    <tr style=\"text-align: right;\">\n",
       "      <th></th>\n",
       "      <th>arr_date</th>\n",
       "      <th>first_EDatt_time</th>\n",
       "    </tr>\n",
       "  </thead>\n",
       "  <tbody>\n",
       "    <tr>\n",
       "      <th>2009-04-01</th>\n",
       "      <td>2009-04-01</td>\n",
       "      <td>2009-04-01 00:04:00</td>\n",
       "    </tr>\n",
       "    <tr>\n",
       "      <th>2009-04-02</th>\n",
       "      <td>2009-04-02</td>\n",
       "      <td>2009-04-02 00:05:00</td>\n",
       "    </tr>\n",
       "    <tr>\n",
       "      <th>2009-04-03</th>\n",
       "      <td>2009-04-03</td>\n",
       "      <td>2009-04-03 00:01:00</td>\n",
       "    </tr>\n",
       "    <tr>\n",
       "      <th>2009-04-04</th>\n",
       "      <td>2009-04-04</td>\n",
       "      <td>2009-04-04 00:04:00</td>\n",
       "    </tr>\n",
       "    <tr>\n",
       "      <th>2009-04-05</th>\n",
       "      <td>2009-04-05</td>\n",
       "      <td>2009-04-05 00:03:00</td>\n",
       "    </tr>\n",
       "  </tbody>\n",
       "</table>\n",
       "</div>"
      ],
      "text/plain": [
       "             arr_date    first_EDatt_time\n",
       "2009-04-01 2009-04-01 2009-04-01 00:04:00\n",
       "2009-04-02 2009-04-02 2009-04-02 00:05:00\n",
       "2009-04-03 2009-04-03 2009-04-03 00:01:00\n",
       "2009-04-04 2009-04-04 2009-04-04 00:04:00\n",
       "2009-04-05 2009-04-05 2009-04-05 00:03:00"
      ]
     },
     "execution_count": 35,
     "metadata": {},
     "output_type": "execute_result"
    }
   ],
   "source": [
    "es['days'].df.head()"
   ]
  },
  {
   "cell_type": "code",
   "execution_count": 36,
   "metadata": {},
   "outputs": [
    {
     "data": {
      "text/html": [
       "<div>\n",
       "<style scoped>\n",
       "    .dataframe tbody tr th:only-of-type {\n",
       "        vertical-align: middle;\n",
       "    }\n",
       "\n",
       "    .dataframe tbody tr th {\n",
       "        vertical-align: top;\n",
       "    }\n",
       "\n",
       "    .dataframe thead th {\n",
       "        text-align: right;\n",
       "    }\n",
       "</style>\n",
       "<table border=\"1\" class=\"dataframe\">\n",
       "  <thead>\n",
       "    <tr style=\"text-align: right;\">\n",
       "      <th></th>\n",
       "      <th>attendance_number</th>\n",
       "      <th>arrival_mode_desc_bool</th>\n",
       "      <th>admission_flag</th>\n",
       "      <th>arrival</th>\n",
       "      <th>arr_date</th>\n",
       "      <th>pseudo_patient_number</th>\n",
       "      <th>age</th>\n",
       "    </tr>\n",
       "  </thead>\n",
       "  <tbody>\n",
       "    <tr>\n",
       "      <th>90902041001</th>\n",
       "      <td>90902041001</td>\n",
       "      <td>False</td>\n",
       "      <td>0</td>\n",
       "      <td>2009-04-01 00:04:00</td>\n",
       "      <td>2009-04-01</td>\n",
       "      <td>4.930409e+11</td>\n",
       "      <td>19.0</td>\n",
       "    </tr>\n",
       "    <tr>\n",
       "      <th>90902041101</th>\n",
       "      <td>90902041101</td>\n",
       "      <td>True</td>\n",
       "      <td>0</td>\n",
       "      <td>2009-04-01 00:19:00</td>\n",
       "      <td>2009-04-01</td>\n",
       "      <td>6.104641e+11</td>\n",
       "      <td>59.0</td>\n",
       "    </tr>\n",
       "  </tbody>\n",
       "</table>\n",
       "</div>"
      ],
      "text/plain": [
       "             attendance_number  arrival_mode_desc_bool  admission_flag  \\\n",
       "90902041001        90902041001                   False               0   \n",
       "90902041101        90902041101                    True               0   \n",
       "\n",
       "                        arrival   arr_date  pseudo_patient_number   age  \n",
       "90902041001 2009-04-01 00:04:00 2009-04-01           4.930409e+11  19.0  \n",
       "90902041101 2009-04-01 00:19:00 2009-04-01           6.104641e+11  59.0  "
      ]
     },
     "execution_count": 36,
     "metadata": {},
     "output_type": "execute_result"
    }
   ],
   "source": [
    "es['EDatt'].df.head(2)"
   ]
  },
  {
   "cell_type": "code",
   "execution_count": 37,
   "metadata": {},
   "outputs": [
    {
     "data": {
      "text/html": [
       "<div>\n",
       "<style scoped>\n",
       "    .dataframe tbody tr th:only-of-type {\n",
       "        vertical-align: middle;\n",
       "    }\n",
       "\n",
       "    .dataframe tbody tr th {\n",
       "        vertical-align: top;\n",
       "    }\n",
       "\n",
       "    .dataframe thead th {\n",
       "        text-align: right;\n",
       "    }\n",
       "</style>\n",
       "<table border=\"1\" class=\"dataframe\">\n",
       "  <thead>\n",
       "    <tr style=\"text-align: right;\">\n",
       "      <th></th>\n",
       "      <th>pseudo_patient_number</th>\n",
       "      <th>gender</th>\n",
       "      <th>first_EDatt_time</th>\n",
       "    </tr>\n",
       "  </thead>\n",
       "  <tbody>\n",
       "    <tr>\n",
       "      <th>4.930409e+11</th>\n",
       "      <td>4.930409e+11</td>\n",
       "      <td>F</td>\n",
       "      <td>2009-04-01 00:04:00</td>\n",
       "    </tr>\n",
       "    <tr>\n",
       "      <th>6.104641e+11</th>\n",
       "      <td>6.104641e+11</td>\n",
       "      <td>F</td>\n",
       "      <td>2009-04-01 00:19:00</td>\n",
       "    </tr>\n",
       "    <tr>\n",
       "      <th>7.723737e+11</th>\n",
       "      <td>7.723737e+11</td>\n",
       "      <td>M</td>\n",
       "      <td>2009-04-01 00:19:00</td>\n",
       "    </tr>\n",
       "  </tbody>\n",
       "</table>\n",
       "</div>"
      ],
      "text/plain": [
       "              pseudo_patient_number gender    first_EDatt_time\n",
       "4.930409e+11           4.930409e+11      F 2009-04-01 00:04:00\n",
       "6.104641e+11           6.104641e+11      F 2009-04-01 00:19:00\n",
       "7.723737e+11           7.723737e+11      M 2009-04-01 00:19:00"
      ]
     },
     "execution_count": 37,
     "metadata": {},
     "output_type": "execute_result"
    }
   ],
   "source": [
    "es['patients'].df.head(3)"
   ]
  },
  {
   "cell_type": "code",
   "execution_count": 38,
   "metadata": {},
   "outputs": [
    {
     "data": {
      "text/html": [
       "<div>\n",
       "<style scoped>\n",
       "    .dataframe tbody tr th:only-of-type {\n",
       "        vertical-align: middle;\n",
       "    }\n",
       "\n",
       "    .dataframe tbody tr th {\n",
       "        vertical-align: top;\n",
       "    }\n",
       "\n",
       "    .dataframe thead th {\n",
       "        text-align: right;\n",
       "    }\n",
       "</style>\n",
       "<table border=\"1\" class=\"dataframe\">\n",
       "  <thead>\n",
       "    <tr style=\"text-align: right;\">\n",
       "      <th></th>\n",
       "      <th>index</th>\n",
       "      <th>dt_date</th>\n",
       "      <th>EDocc_nonadmit</th>\n",
       "      <th>EDocc_admit</th>\n",
       "      <th>EDocc_total</th>\n",
       "      <th>EDocc_awaitingadm</th>\n",
       "      <th>EDocc_nonbreach</th>\n",
       "      <th>EDocc_breach</th>\n",
       "      <th>IPocc_NonElective</th>\n",
       "      <th>IPocc_Day_Case</th>\n",
       "      <th>...</th>\n",
       "      <th>IPdis_daycase</th>\n",
       "      <th>IPdis_elective</th>\n",
       "      <th>IPadm_elec_nonelec</th>\n",
       "      <th>IPdis_elec_nonelec</th>\n",
       "      <th>EDarrive</th>\n",
       "      <th>EDarrive_breach</th>\n",
       "      <th>EDarrive_adm</th>\n",
       "      <th>EDdepart</th>\n",
       "      <th>EDdepart_breach</th>\n",
       "      <th>EDdepart_adm</th>\n",
       "    </tr>\n",
       "  </thead>\n",
       "  <tbody>\n",
       "    <tr>\n",
       "      <th>2009-04-01 00:00:00</th>\n",
       "      <td>2009-04-01 00:00:00</td>\n",
       "      <td>2009-04-01</td>\n",
       "      <td>0.0</td>\n",
       "      <td>0.0</td>\n",
       "      <td>0.0</td>\n",
       "      <td>0.0</td>\n",
       "      <td>0.0</td>\n",
       "      <td>0.0</td>\n",
       "      <td>0.0</td>\n",
       "      <td>0.0</td>\n",
       "      <td>...</td>\n",
       "      <td>0.0</td>\n",
       "      <td>0.0</td>\n",
       "      <td>0.0</td>\n",
       "      <td>0.0</td>\n",
       "      <td>6.0</td>\n",
       "      <td>3.0</td>\n",
       "      <td>4.0</td>\n",
       "      <td>0.0</td>\n",
       "      <td>0.0</td>\n",
       "      <td>0.0</td>\n",
       "    </tr>\n",
       "    <tr>\n",
       "      <th>2009-04-01 01:00:00</th>\n",
       "      <td>2009-04-01 01:00:00</td>\n",
       "      <td>2009-04-01</td>\n",
       "      <td>2.0</td>\n",
       "      <td>4.0</td>\n",
       "      <td>6.0</td>\n",
       "      <td>0.0</td>\n",
       "      <td>3.0</td>\n",
       "      <td>3.0</td>\n",
       "      <td>3.0</td>\n",
       "      <td>2.0</td>\n",
       "      <td>...</td>\n",
       "      <td>0.0</td>\n",
       "      <td>0.0</td>\n",
       "      <td>0.0</td>\n",
       "      <td>0.0</td>\n",
       "      <td>6.0</td>\n",
       "      <td>3.0</td>\n",
       "      <td>4.0</td>\n",
       "      <td>1.0</td>\n",
       "      <td>0.0</td>\n",
       "      <td>0.0</td>\n",
       "    </tr>\n",
       "  </tbody>\n",
       "</table>\n",
       "<p>2 rows × 29 columns</p>\n",
       "</div>"
      ],
      "text/plain": [
       "                                  index    dt_date  EDocc_nonadmit  \\\n",
       "2009-04-01 00:00:00 2009-04-01 00:00:00 2009-04-01             0.0   \n",
       "2009-04-01 01:00:00 2009-04-01 01:00:00 2009-04-01             2.0   \n",
       "\n",
       "                     EDocc_admit  EDocc_total  EDocc_awaitingadm  \\\n",
       "2009-04-01 00:00:00          0.0          0.0                0.0   \n",
       "2009-04-01 01:00:00          4.0          6.0                0.0   \n",
       "\n",
       "                     EDocc_nonbreach  EDocc_breach  IPocc_NonElective  \\\n",
       "2009-04-01 00:00:00              0.0           0.0                0.0   \n",
       "2009-04-01 01:00:00              3.0           3.0                3.0   \n",
       "\n",
       "                     IPocc_Day_Case      ...       IPdis_daycase  \\\n",
       "2009-04-01 00:00:00             0.0      ...                 0.0   \n",
       "2009-04-01 01:00:00             2.0      ...                 0.0   \n",
       "\n",
       "                     IPdis_elective  IPadm_elec_nonelec  IPdis_elec_nonelec  \\\n",
       "2009-04-01 00:00:00             0.0                 0.0                 0.0   \n",
       "2009-04-01 01:00:00             0.0                 0.0                 0.0   \n",
       "\n",
       "                     EDarrive  EDarrive_breach  EDarrive_adm  EDdepart  \\\n",
       "2009-04-01 00:00:00       6.0              3.0           4.0       0.0   \n",
       "2009-04-01 01:00:00       6.0              3.0           4.0       1.0   \n",
       "\n",
       "                     EDdepart_breach  EDdepart_adm  \n",
       "2009-04-01 00:00:00              0.0           0.0  \n",
       "2009-04-01 01:00:00              0.0           0.0  \n",
       "\n",
       "[2 rows x 29 columns]"
      ]
     },
     "execution_count": 38,
     "metadata": {},
     "output_type": "execute_result"
    }
   ],
   "source": [
    "es['hourly'].df.head(2)"
   ]
  },
  {
   "cell_type": "code",
   "execution_count": 39,
   "metadata": {},
   "outputs": [
    {
     "data": {
      "text/html": [
       "<div>\n",
       "<style scoped>\n",
       "    .dataframe tbody tr th:only-of-type {\n",
       "        vertical-align: middle;\n",
       "    }\n",
       "\n",
       "    .dataframe tbody tr th {\n",
       "        vertical-align: top;\n",
       "    }\n",
       "\n",
       "    .dataframe thead th {\n",
       "        text-align: right;\n",
       "    }\n",
       "</style>\n",
       "<table border=\"1\" class=\"dataframe\">\n",
       "  <thead>\n",
       "    <tr style=\"text-align: right;\">\n",
       "      <th></th>\n",
       "      <th>arr_date</th>\n",
       "      <th>first_EDatt_time</th>\n",
       "    </tr>\n",
       "  </thead>\n",
       "  <tbody>\n",
       "    <tr>\n",
       "      <th>2009-04-01</th>\n",
       "      <td>2009-04-01</td>\n",
       "      <td>2009-04-01 00:04:00</td>\n",
       "    </tr>\n",
       "    <tr>\n",
       "      <th>2009-04-02</th>\n",
       "      <td>2009-04-02</td>\n",
       "      <td>2009-04-02 00:05:00</td>\n",
       "    </tr>\n",
       "    <tr>\n",
       "      <th>2009-04-03</th>\n",
       "      <td>2009-04-03</td>\n",
       "      <td>2009-04-03 00:01:00</td>\n",
       "    </tr>\n",
       "  </tbody>\n",
       "</table>\n",
       "</div>"
      ],
      "text/plain": [
       "             arr_date    first_EDatt_time\n",
       "2009-04-01 2009-04-01 2009-04-01 00:04:00\n",
       "2009-04-02 2009-04-02 2009-04-02 00:05:00\n",
       "2009-04-03 2009-04-03 2009-04-03 00:01:00"
      ]
     },
     "execution_count": 39,
     "metadata": {},
     "output_type": "execute_result"
    }
   ],
   "source": [
    "es['days'].df.head(3)"
   ]
  },
  {
   "cell_type": "markdown",
   "metadata": {},
   "source": [
    "# make features"
   ]
  },
  {
   "cell_type": "markdown",
   "metadata": {},
   "source": [
    "feature_matrix, feature_defs = ft.dfs(entityset=es,target_entity='days',\n",
    "      agg_primitives=['count','mean','num_true','sum'],\n",
    "      trans_primitives=['month','year','day'],\n",
    "    max_depth=1,n_jobs=2)\n",
    "\n",
    "feature_matrix"
   ]
  },
  {
   "cell_type": "code",
   "execution_count": 63,
   "metadata": {},
   "outputs": [
    {
     "data": {
      "text/plain": [
       "(3470, 125)"
      ]
     },
     "execution_count": 63,
     "metadata": {},
     "output_type": "execute_result"
    }
   ],
   "source": [
    "feature_matrix1, feature_defs = ft.dfs(entityset=es,target_entity='days',\n",
    "      agg_primitives=['count','mean','num_true','sum','max','last'],\n",
    "      trans_primitives=['month','year','weekend','weekday'],\n",
    "    max_depth=1,n_jobs=1)\n",
    "\n",
    "feature_matrix1.shape"
   ]
  },
  {
   "cell_type": "code",
   "execution_count": 64,
   "metadata": {},
   "outputs": [
    {
     "data": {
      "text/plain": [
       "(3470, 135)"
      ]
     },
     "execution_count": 64,
     "metadata": {},
     "output_type": "execute_result"
    }
   ],
   "source": [
    "feature_matrix2, feature_defs = ft.dfs(entityset=es,target_entity='days',\n",
    "      agg_primitives=['count','mean','num_true','sum','max','last'],\n",
    "      trans_primitives=['month','year','weekend','weekday'],\n",
    "    max_depth=2,n_jobs=1)\n",
    "\n",
    "feature_matrix2.shape"
   ]
  },
  {
   "cell_type": "code",
   "execution_count": 65,
   "metadata": {},
   "outputs": [
    {
     "data": {
      "text/plain": [
       "(3470, 179)"
      ]
     },
     "execution_count": 65,
     "metadata": {},
     "output_type": "execute_result"
    }
   ],
   "source": [
    "feature_matrix, feature_defs = ft.dfs(entityset=es,target_entity='days',\n",
    "      agg_primitives=['count','mean','num_true','sum','max','last'],\n",
    "      trans_primitives=['month','year','weekend','weekday'],\n",
    "    max_depth=3,n_jobs=1)\n",
    "\n",
    "feature_matrix.shape"
   ]
  },
  {
   "cell_type": "code",
   "execution_count": 66,
   "metadata": {},
   "outputs": [
    {
     "data": {
      "text/plain": [
       "{'LAST(EDatt.MONTH(arrival))',\n",
       " 'LAST(EDatt.WEEKDAY(arrival))',\n",
       " 'LAST(EDatt.WEEKEND(arrival))',\n",
       " 'LAST(EDatt.YEAR(arrival))',\n",
       " 'LAST(EDatt.patients.COUNT(EDatt))',\n",
       " 'LAST(EDatt.patients.LAST(EDatt.admission_flag))',\n",
       " 'LAST(EDatt.patients.LAST(EDatt.age))',\n",
       " 'LAST(EDatt.patients.LAST(EDatt.arr_date))',\n",
       " 'LAST(EDatt.patients.MAX(EDatt.admission_flag))',\n",
       " 'LAST(EDatt.patients.MAX(EDatt.age))',\n",
       " 'LAST(EDatt.patients.MEAN(EDatt.admission_flag))',\n",
       " 'LAST(EDatt.patients.MEAN(EDatt.age))',\n",
       " 'LAST(EDatt.patients.MONTH(first_EDatt_time))',\n",
       " 'LAST(EDatt.patients.NUM_TRUE(EDatt.arrival_mode_desc_bool))',\n",
       " 'LAST(EDatt.patients.SUM(EDatt.admission_flag))',\n",
       " 'LAST(EDatt.patients.SUM(EDatt.age))',\n",
       " 'LAST(EDatt.patients.WEEKDAY(first_EDatt_time))',\n",
       " 'LAST(EDatt.patients.YEAR(first_EDatt_time))',\n",
       " 'LAST(EDatt.patients.gender)',\n",
       " 'MAX(EDatt.patients.COUNT(EDatt))',\n",
       " 'MAX(EDatt.patients.LAST(EDatt.admission_flag))',\n",
       " 'MAX(EDatt.patients.LAST(EDatt.age))',\n",
       " 'MAX(EDatt.patients.MAX(EDatt.admission_flag))',\n",
       " 'MAX(EDatt.patients.MAX(EDatt.age))',\n",
       " 'MAX(EDatt.patients.MEAN(EDatt.admission_flag))',\n",
       " 'MAX(EDatt.patients.MEAN(EDatt.age))',\n",
       " 'MAX(EDatt.patients.NUM_TRUE(EDatt.arrival_mode_desc_bool))',\n",
       " 'MAX(EDatt.patients.SUM(EDatt.admission_flag))',\n",
       " 'MAX(EDatt.patients.SUM(EDatt.age))',\n",
       " 'MEAN(EDatt.patients.COUNT(EDatt))',\n",
       " 'MEAN(EDatt.patients.LAST(EDatt.admission_flag))',\n",
       " 'MEAN(EDatt.patients.LAST(EDatt.age))',\n",
       " 'MEAN(EDatt.patients.MAX(EDatt.admission_flag))',\n",
       " 'MEAN(EDatt.patients.MAX(EDatt.age))',\n",
       " 'MEAN(EDatt.patients.MEAN(EDatt.admission_flag))',\n",
       " 'MEAN(EDatt.patients.MEAN(EDatt.age))',\n",
       " 'MEAN(EDatt.patients.NUM_TRUE(EDatt.arrival_mode_desc_bool))',\n",
       " 'MEAN(EDatt.patients.SUM(EDatt.admission_flag))',\n",
       " 'MEAN(EDatt.patients.SUM(EDatt.age))',\n",
       " 'MONTH(LAST(EDatt.arrival))',\n",
       " 'NUM_TRUE(EDatt.WEEKEND(arrival))',\n",
       " 'SUM(EDatt.patients.COUNT(EDatt))',\n",
       " 'SUM(EDatt.patients.LAST(EDatt.admission_flag))',\n",
       " 'SUM(EDatt.patients.LAST(EDatt.age))',\n",
       " 'SUM(EDatt.patients.MAX(EDatt.admission_flag))',\n",
       " 'SUM(EDatt.patients.MAX(EDatt.age))',\n",
       " 'SUM(EDatt.patients.MEAN(EDatt.admission_flag))',\n",
       " 'SUM(EDatt.patients.MEAN(EDatt.age))',\n",
       " 'SUM(EDatt.patients.NUM_TRUE(EDatt.arrival_mode_desc_bool))',\n",
       " 'SUM(EDatt.patients.SUM(EDatt.admission_flag))',\n",
       " 'SUM(EDatt.patients.SUM(EDatt.age))',\n",
       " 'WEEKDAY(LAST(EDatt.arrival))',\n",
       " 'WEEKEND(LAST(EDatt.arrival))',\n",
       " 'YEAR(LAST(EDatt.arrival))'}"
      ]
     },
     "execution_count": 66,
     "metadata": {},
     "output_type": "execute_result"
    }
   ],
   "source": [
    "set(feature_matrix.columns) - set(feature_matrix1.columns)"
   ]
  },
  {
   "cell_type": "code",
   "execution_count": 41,
   "metadata": {},
   "outputs": [
    {
     "name": "stdout",
     "output_type": "stream",
     "text": [
      "COUNT(EDatt)\n",
      "MEAN(EDatt.admission_flag)\n",
      "MEAN(EDatt.age)\n",
      "NUM_TRUE(EDatt.arrival_mode_desc_bool)\n",
      "SUM(EDatt.admission_flag)\n",
      "SUM(EDatt.age)\n",
      "MAX(EDatt.admission_flag)\n",
      "MAX(EDatt.age)\n",
      "LAST(EDatt.arrival_mode_desc_bool)\n",
      "LAST(EDatt.admission_flag)\n",
      "LAST(EDatt.pseudo_patient_number)\n",
      "LAST(EDatt.age)\n",
      "COUNT(hourly)\n",
      "MEAN(hourly.EDocc_nonadmit)\n",
      "MEAN(hourly.EDocc_admit)\n",
      "MEAN(hourly.EDocc_total)\n",
      "MEAN(hourly.EDocc_awaitingadm)\n",
      "MEAN(hourly.EDocc_nonbreach)\n",
      "MEAN(hourly.EDocc_breach)\n",
      "MEAN(hourly.IPocc_NonElective)\n",
      "MEAN(hourly.IPocc_Day_Case)\n",
      "MEAN(hourly.IPocc_Elective)\n",
      "MEAN(hourly.IPocc_total)\n",
      "MEAN(hourly.IPocc_elec_nonelec)\n",
      "MEAN(hourly.IPadm)\n",
      "MEAN(hourly.IPadm_nonelec)\n",
      "MEAN(hourly.IPadm_daycase)\n",
      "MEAN(hourly.IPadm_elective)\n",
      "MEAN(hourly.IPdis)\n",
      "MEAN(hourly.IPdis_nonelec)\n",
      "MEAN(hourly.IPdis_daycase)\n",
      "MEAN(hourly.IPdis_elective)\n",
      "MEAN(hourly.IPadm_elec_nonelec)\n",
      "MEAN(hourly.IPdis_elec_nonelec)\n",
      "MEAN(hourly.EDarrive)\n",
      "MEAN(hourly.EDarrive_breach)\n",
      "MEAN(hourly.EDarrive_adm)\n",
      "MEAN(hourly.EDdepart)\n",
      "MEAN(hourly.EDdepart_breach)\n",
      "MEAN(hourly.EDdepart_adm)\n",
      "SUM(hourly.EDocc_nonadmit)\n",
      "SUM(hourly.EDocc_admit)\n",
      "SUM(hourly.EDocc_total)\n",
      "SUM(hourly.EDocc_awaitingadm)\n",
      "SUM(hourly.EDocc_nonbreach)\n",
      "SUM(hourly.EDocc_breach)\n",
      "SUM(hourly.IPocc_NonElective)\n",
      "SUM(hourly.IPocc_Day_Case)\n",
      "SUM(hourly.IPocc_Elective)\n",
      "SUM(hourly.IPocc_total)\n",
      "SUM(hourly.IPocc_elec_nonelec)\n",
      "SUM(hourly.IPadm)\n",
      "SUM(hourly.IPadm_nonelec)\n",
      "SUM(hourly.IPadm_daycase)\n",
      "SUM(hourly.IPadm_elective)\n",
      "SUM(hourly.IPdis)\n",
      "SUM(hourly.IPdis_nonelec)\n",
      "SUM(hourly.IPdis_daycase)\n",
      "SUM(hourly.IPdis_elective)\n",
      "SUM(hourly.IPadm_elec_nonelec)\n",
      "SUM(hourly.IPdis_elec_nonelec)\n",
      "SUM(hourly.EDarrive)\n",
      "SUM(hourly.EDarrive_breach)\n",
      "SUM(hourly.EDarrive_adm)\n",
      "SUM(hourly.EDdepart)\n",
      "SUM(hourly.EDdepart_breach)\n",
      "SUM(hourly.EDdepart_adm)\n",
      "MAX(hourly.EDocc_nonadmit)\n",
      "MAX(hourly.EDocc_admit)\n",
      "MAX(hourly.EDocc_total)\n",
      "MAX(hourly.EDocc_awaitingadm)\n",
      "MAX(hourly.EDocc_nonbreach)\n",
      "MAX(hourly.EDocc_breach)\n",
      "MAX(hourly.IPocc_NonElective)\n",
      "MAX(hourly.IPocc_Day_Case)\n",
      "MAX(hourly.IPocc_Elective)\n",
      "MAX(hourly.IPocc_total)\n",
      "MAX(hourly.IPocc_elec_nonelec)\n",
      "MAX(hourly.IPadm)\n",
      "MAX(hourly.IPadm_nonelec)\n",
      "MAX(hourly.IPadm_daycase)\n",
      "MAX(hourly.IPadm_elective)\n",
      "MAX(hourly.IPdis)\n",
      "MAX(hourly.IPdis_nonelec)\n",
      "MAX(hourly.IPdis_daycase)\n",
      "MAX(hourly.IPdis_elective)\n",
      "MAX(hourly.IPadm_elec_nonelec)\n",
      "MAX(hourly.IPdis_elec_nonelec)\n",
      "MAX(hourly.EDarrive)\n",
      "MAX(hourly.EDarrive_breach)\n",
      "MAX(hourly.EDarrive_adm)\n",
      "MAX(hourly.EDdepart)\n",
      "MAX(hourly.EDdepart_breach)\n",
      "MAX(hourly.EDdepart_adm)\n",
      "LAST(hourly.EDocc_nonadmit)\n",
      "LAST(hourly.EDocc_admit)\n",
      "LAST(hourly.EDocc_total)\n",
      "LAST(hourly.EDocc_awaitingadm)\n",
      "LAST(hourly.EDocc_nonbreach)\n",
      "LAST(hourly.EDocc_breach)\n",
      "LAST(hourly.IPocc_NonElective)\n",
      "LAST(hourly.IPocc_Day_Case)\n",
      "LAST(hourly.IPocc_Elective)\n",
      "LAST(hourly.IPocc_total)\n",
      "LAST(hourly.IPocc_elec_nonelec)\n",
      "LAST(hourly.IPadm)\n",
      "LAST(hourly.IPadm_nonelec)\n",
      "LAST(hourly.IPadm_daycase)\n",
      "LAST(hourly.IPadm_elective)\n",
      "LAST(hourly.IPdis)\n",
      "LAST(hourly.IPdis_nonelec)\n",
      "LAST(hourly.IPdis_daycase)\n",
      "LAST(hourly.IPdis_elective)\n",
      "LAST(hourly.IPadm_elec_nonelec)\n",
      "LAST(hourly.IPdis_elec_nonelec)\n",
      "LAST(hourly.EDarrive)\n",
      "LAST(hourly.EDarrive_breach)\n",
      "LAST(hourly.EDarrive_adm)\n",
      "LAST(hourly.EDdepart)\n",
      "LAST(hourly.EDdepart_breach)\n",
      "LAST(hourly.EDdepart_adm)\n",
      "MONTH(first_EDatt_time)\n",
      "YEAR(first_EDatt_time)\n",
      "WEEKEND(first_EDatt_time)\n",
      "WEEKDAY(first_EDatt_time)\n",
      "NUM_TRUE(EDatt.WEEKEND(arrival))\n",
      "LAST(EDatt.MONTH(arrival))\n",
      "LAST(EDatt.YEAR(arrival))\n",
      "LAST(EDatt.WEEKEND(arrival))\n",
      "LAST(EDatt.WEEKDAY(arrival))\n",
      "LAST(EDatt.patients.gender)\n",
      "MONTH(LAST(EDatt.arrival))\n",
      "YEAR(LAST(EDatt.arrival))\n",
      "WEEKEND(LAST(EDatt.arrival))\n",
      "WEEKDAY(LAST(EDatt.arrival))\n",
      "MEAN(EDatt.patients.COUNT(EDatt))\n",
      "MEAN(EDatt.patients.MEAN(EDatt.admission_flag))\n",
      "MEAN(EDatt.patients.MEAN(EDatt.age))\n",
      "MEAN(EDatt.patients.NUM_TRUE(EDatt.arrival_mode_desc_bool))\n",
      "MEAN(EDatt.patients.SUM(EDatt.admission_flag))\n",
      "MEAN(EDatt.patients.SUM(EDatt.age))\n",
      "MEAN(EDatt.patients.MAX(EDatt.admission_flag))\n",
      "MEAN(EDatt.patients.MAX(EDatt.age))\n",
      "MEAN(EDatt.patients.LAST(EDatt.admission_flag))\n",
      "MEAN(EDatt.patients.LAST(EDatt.age))\n",
      "SUM(EDatt.patients.COUNT(EDatt))\n",
      "SUM(EDatt.patients.MEAN(EDatt.admission_flag))\n",
      "SUM(EDatt.patients.MEAN(EDatt.age))\n",
      "SUM(EDatt.patients.NUM_TRUE(EDatt.arrival_mode_desc_bool))\n",
      "SUM(EDatt.patients.SUM(EDatt.admission_flag))\n",
      "SUM(EDatt.patients.SUM(EDatt.age))\n",
      "SUM(EDatt.patients.MAX(EDatt.admission_flag))\n",
      "SUM(EDatt.patients.MAX(EDatt.age))\n",
      "SUM(EDatt.patients.LAST(EDatt.admission_flag))\n",
      "SUM(EDatt.patients.LAST(EDatt.age))\n",
      "MAX(EDatt.patients.COUNT(EDatt))\n",
      "MAX(EDatt.patients.MEAN(EDatt.admission_flag))\n",
      "MAX(EDatt.patients.MEAN(EDatt.age))\n",
      "MAX(EDatt.patients.NUM_TRUE(EDatt.arrival_mode_desc_bool))\n",
      "MAX(EDatt.patients.SUM(EDatt.admission_flag))\n",
      "MAX(EDatt.patients.SUM(EDatt.age))\n",
      "MAX(EDatt.patients.MAX(EDatt.admission_flag))\n",
      "MAX(EDatt.patients.MAX(EDatt.age))\n",
      "MAX(EDatt.patients.LAST(EDatt.admission_flag))\n",
      "MAX(EDatt.patients.LAST(EDatt.age))\n",
      "LAST(EDatt.patients.COUNT(EDatt))\n",
      "LAST(EDatt.patients.MEAN(EDatt.admission_flag))\n",
      "LAST(EDatt.patients.MEAN(EDatt.age))\n",
      "LAST(EDatt.patients.NUM_TRUE(EDatt.arrival_mode_desc_bool))\n",
      "LAST(EDatt.patients.SUM(EDatt.admission_flag))\n",
      "LAST(EDatt.patients.SUM(EDatt.age))\n",
      "LAST(EDatt.patients.MAX(EDatt.admission_flag))\n",
      "LAST(EDatt.patients.MAX(EDatt.age))\n",
      "LAST(EDatt.patients.LAST(EDatt.admission_flag))\n",
      "LAST(EDatt.patients.LAST(EDatt.arr_date))\n",
      "LAST(EDatt.patients.LAST(EDatt.age))\n",
      "LAST(EDatt.patients.MONTH(first_EDatt_time))\n",
      "LAST(EDatt.patients.YEAR(first_EDatt_time))\n",
      "LAST(EDatt.patients.WEEKDAY(first_EDatt_time))\n"
     ]
    }
   ],
   "source": [
    "for i in feature_matrix.columns:\n",
    "    print(i)"
   ]
  },
  {
   "cell_type": "code",
   "execution_count": 42,
   "metadata": {},
   "outputs": [
    {
     "data": {
      "text/plain": [
       "(3470, 179)"
      ]
     },
     "execution_count": 42,
     "metadata": {},
     "output_type": "execute_result"
    }
   ],
   "source": [
    "feature_matrix.shape"
   ]
  },
  {
   "cell_type": "code",
   "execution_count": 43,
   "metadata": {},
   "outputs": [
    {
     "data": {
      "text/plain": [
       "(3470, 179)"
      ]
     },
     "execution_count": 43,
     "metadata": {},
     "output_type": "execute_result"
    }
   ],
   "source": [
    "feature_matrix.shape"
   ]
  },
  {
   "cell_type": "markdown",
   "metadata": {},
   "source": [
    "## do some basic drops"
   ]
  },
  {
   "cell_type": "code",
   "execution_count": 44,
   "metadata": {},
   "outputs": [],
   "source": [
    "uniques = feature_matrix.apply(lambda x: x.nunique())"
   ]
  },
  {
   "cell_type": "code",
   "execution_count": 45,
   "metadata": {},
   "outputs": [
    {
     "data": {
      "text/plain": [
       "Index(['MAX(EDatt.admission_flag)', 'COUNT(hourly)',\n",
       "       'MAX(EDatt.patients.MEAN(EDatt.admission_flag))',\n",
       "       'MAX(EDatt.patients.MAX(EDatt.admission_flag))',\n",
       "       'MAX(EDatt.patients.LAST(EDatt.admission_flag))'],\n",
       "      dtype='object')"
      ]
     },
     "execution_count": 45,
     "metadata": {},
     "output_type": "execute_result"
    }
   ],
   "source": [
    "uniques[uniques==1].index"
   ]
  },
  {
   "cell_type": "code",
   "execution_count": 46,
   "metadata": {},
   "outputs": [],
   "source": [
    "feature_matrix = feature_matrix.drop(uniques[uniques==1].index, axis=1)"
   ]
  },
  {
   "cell_type": "code",
   "execution_count": null,
   "metadata": {},
   "outputs": [],
   "source": []
  },
  {
   "cell_type": "markdown",
   "metadata": {},
   "source": [
    "#### drop columns which have all same values"
   ]
  },
  {
   "cell_type": "code",
   "execution_count": 47,
   "metadata": {},
   "outputs": [
    {
     "data": {
      "text/plain": [
       "(3470, 174)"
      ]
     },
     "execution_count": 47,
     "metadata": {},
     "output_type": "execute_result"
    }
   ],
   "source": [
    "feature_matrix.shape"
   ]
  },
  {
   "cell_type": "code",
   "execution_count": 48,
   "metadata": {},
   "outputs": [],
   "source": [
    "cols = list(feature_matrix)\n",
    "nunique = feature_matrix.apply(pd.Series.nunique)\n",
    "cols_to_drop = nunique[nunique == 1].index\n",
    "feature_matrix.drop(cols_to_drop, axis=1,inplace=True)"
   ]
  },
  {
   "cell_type": "code",
   "execution_count": 49,
   "metadata": {},
   "outputs": [
    {
     "data": {
      "text/plain": [
       "(3470, 174)"
      ]
     },
     "execution_count": 49,
     "metadata": {},
     "output_type": "execute_result"
    }
   ],
   "source": [
    "feature_matrix.shape"
   ]
  },
  {
   "cell_type": "markdown",
   "metadata": {},
   "source": [
    "#### drop cols that are duplicated "
   ]
  },
  {
   "cell_type": "code",
   "execution_count": 50,
   "metadata": {},
   "outputs": [],
   "source": [
    "from utils import duplicate_columns"
   ]
  },
  {
   "cell_type": "code",
   "execution_count": 51,
   "metadata": {},
   "outputs": [
    {
     "data": {
      "text/plain": [
       "['WEEKEND(first_EDatt_time)',\n",
       " 'LAST(EDatt.WEEKEND(arrival))',\n",
       " 'MONTH(first_EDatt_time)',\n",
       " 'YEAR(first_EDatt_time)',\n",
       " 'WEEKDAY(first_EDatt_time)',\n",
       " 'LAST(EDatt.MONTH(arrival))',\n",
       " 'LAST(EDatt.YEAR(arrival))',\n",
       " 'LAST(EDatt.WEEKDAY(arrival))',\n",
       " 'MEAN(hourly.IPadm_daycase)',\n",
       " 'SUM(hourly.IPadm_daycase)',\n",
       " 'MEAN(EDatt.patients.MAX(EDatt.age))',\n",
       " 'SUM(EDatt.patients.MAX(EDatt.age))',\n",
       " 'MAX(EDatt.patients.MAX(EDatt.age))',\n",
       " 'LAST(EDatt.patients.MAX(EDatt.age))']"
      ]
     },
     "execution_count": 51,
     "metadata": {},
     "output_type": "execute_result"
    }
   ],
   "source": [
    "dups = duplicate_columns(feature_matrix)\n",
    "dups"
   ]
  },
  {
   "cell_type": "code",
   "execution_count": 52,
   "metadata": {},
   "outputs": [],
   "source": [
    "feature_matrix.drop(dups,axis=1,inplace=True)"
   ]
  },
  {
   "cell_type": "code",
   "execution_count": 53,
   "metadata": {},
   "outputs": [
    {
     "data": {
      "text/plain": [
       "(3470, 160)"
      ]
     },
     "execution_count": 53,
     "metadata": {},
     "output_type": "execute_result"
    }
   ],
   "source": [
    "feature_matrix.shape"
   ]
  },
  {
   "cell_type": "markdown",
   "metadata": {},
   "source": [
    "### save out"
   ]
  },
  {
   "cell_type": "code",
   "execution_count": 54,
   "metadata": {},
   "outputs": [],
   "source": [
    "pd.to_pickle(feature_matrix,'./activity.pkl')"
   ]
  },
  {
   "cell_type": "code",
   "execution_count": 55,
   "metadata": {},
   "outputs": [
    {
     "data": {
      "text/html": [
       "<div>\n",
       "<style scoped>\n",
       "    .dataframe tbody tr th:only-of-type {\n",
       "        vertical-align: middle;\n",
       "    }\n",
       "\n",
       "    .dataframe tbody tr th {\n",
       "        vertical-align: top;\n",
       "    }\n",
       "\n",
       "    .dataframe thead th {\n",
       "        text-align: right;\n",
       "    }\n",
       "</style>\n",
       "<table border=\"1\" class=\"dataframe\">\n",
       "  <thead>\n",
       "    <tr style=\"text-align: right;\">\n",
       "      <th></th>\n",
       "      <th>name</th>\n",
       "      <th>type</th>\n",
       "      <th>description</th>\n",
       "    </tr>\n",
       "  </thead>\n",
       "  <tbody>\n",
       "    <tr>\n",
       "      <th>0</th>\n",
       "      <td>all</td>\n",
       "      <td>aggregation</td>\n",
       "      <td>Test if all values are 'True'.</td>\n",
       "    </tr>\n",
       "    <tr>\n",
       "      <th>1</th>\n",
       "      <td>num_unique</td>\n",
       "      <td>aggregation</td>\n",
       "      <td>Returns the number of unique categorical varia...</td>\n",
       "    </tr>\n",
       "    <tr>\n",
       "      <th>2</th>\n",
       "      <td>last</td>\n",
       "      <td>aggregation</td>\n",
       "      <td>Returns the last value.</td>\n",
       "    </tr>\n",
       "    <tr>\n",
       "      <th>3</th>\n",
       "      <td>percent_true</td>\n",
       "      <td>aggregation</td>\n",
       "      <td>Finds the percent of 'True' values in a boolea...</td>\n",
       "    </tr>\n",
       "    <tr>\n",
       "      <th>4</th>\n",
       "      <td>median</td>\n",
       "      <td>aggregation</td>\n",
       "      <td>Finds the median value of any feature with wel...</td>\n",
       "    </tr>\n",
       "    <tr>\n",
       "      <th>5</th>\n",
       "      <td>mean</td>\n",
       "      <td>aggregation</td>\n",
       "      <td>Computes the average value of a numeric feature.</td>\n",
       "    </tr>\n",
       "    <tr>\n",
       "      <th>6</th>\n",
       "      <td>mode</td>\n",
       "      <td>aggregation</td>\n",
       "      <td>Finds the most common element in a categorical...</td>\n",
       "    </tr>\n",
       "    <tr>\n",
       "      <th>7</th>\n",
       "      <td>std</td>\n",
       "      <td>aggregation</td>\n",
       "      <td>Finds the standard deviation of a numeric feat...</td>\n",
       "    </tr>\n",
       "    <tr>\n",
       "      <th>8</th>\n",
       "      <td>trend</td>\n",
       "      <td>aggregation</td>\n",
       "      <td>Calculates the slope of the linear trend of va...</td>\n",
       "    </tr>\n",
       "    <tr>\n",
       "      <th>9</th>\n",
       "      <td>count</td>\n",
       "      <td>aggregation</td>\n",
       "      <td>Counts the number of non null values.</td>\n",
       "    </tr>\n",
       "    <tr>\n",
       "      <th>10</th>\n",
       "      <td>sum</td>\n",
       "      <td>aggregation</td>\n",
       "      <td>Sums elements of a numeric or boolean feature.</td>\n",
       "    </tr>\n",
       "    <tr>\n",
       "      <th>11</th>\n",
       "      <td>skew</td>\n",
       "      <td>aggregation</td>\n",
       "      <td>Computes the skewness of a data set.</td>\n",
       "    </tr>\n",
       "    <tr>\n",
       "      <th>12</th>\n",
       "      <td>num_true</td>\n",
       "      <td>aggregation</td>\n",
       "      <td>Finds the number of 'True' values in a boolean.</td>\n",
       "    </tr>\n",
       "    <tr>\n",
       "      <th>13</th>\n",
       "      <td>min</td>\n",
       "      <td>aggregation</td>\n",
       "      <td>Finds the minimum non-null value of a numeric ...</td>\n",
       "    </tr>\n",
       "    <tr>\n",
       "      <th>14</th>\n",
       "      <td>avg_time_between</td>\n",
       "      <td>aggregation</td>\n",
       "      <td>Computes the average time between consecutive ...</td>\n",
       "    </tr>\n",
       "    <tr>\n",
       "      <th>15</th>\n",
       "      <td>max</td>\n",
       "      <td>aggregation</td>\n",
       "      <td>Finds the maximum non-null value of a numeric ...</td>\n",
       "    </tr>\n",
       "    <tr>\n",
       "      <th>16</th>\n",
       "      <td>time_since_last</td>\n",
       "      <td>aggregation</td>\n",
       "      <td>Time since last related instance.</td>\n",
       "    </tr>\n",
       "    <tr>\n",
       "      <th>17</th>\n",
       "      <td>n_most_common</td>\n",
       "      <td>aggregation</td>\n",
       "      <td>Finds the N most common elements in a categori...</td>\n",
       "    </tr>\n",
       "    <tr>\n",
       "      <th>18</th>\n",
       "      <td>any</td>\n",
       "      <td>aggregation</td>\n",
       "      <td>Test if any value is 'True'.</td>\n",
       "    </tr>\n",
       "    <tr>\n",
       "      <th>19</th>\n",
       "      <td>and</td>\n",
       "      <td>transform</td>\n",
       "      <td>For two boolean values, determine if both valu...</td>\n",
       "    </tr>\n",
       "    <tr>\n",
       "      <th>20</th>\n",
       "      <td>weekday</td>\n",
       "      <td>transform</td>\n",
       "      <td>Transform Datetime feature into the boolean of...</td>\n",
       "    </tr>\n",
       "    <tr>\n",
       "      <th>21</th>\n",
       "      <td>days_since</td>\n",
       "      <td>transform</td>\n",
       "      <td>For each value of the base feature, compute th...</td>\n",
       "    </tr>\n",
       "    <tr>\n",
       "      <th>22</th>\n",
       "      <td>weekend</td>\n",
       "      <td>transform</td>\n",
       "      <td>Transform Datetime feature into the boolean of...</td>\n",
       "    </tr>\n",
       "    <tr>\n",
       "      <th>23</th>\n",
       "      <td>minute</td>\n",
       "      <td>transform</td>\n",
       "      <td>Transform a Datetime feature into the minute.</td>\n",
       "    </tr>\n",
       "    <tr>\n",
       "      <th>24</th>\n",
       "      <td>minutes</td>\n",
       "      <td>transform</td>\n",
       "      <td>Transform a Timedelta feature into the number ...</td>\n",
       "    </tr>\n",
       "    <tr>\n",
       "      <th>25</th>\n",
       "      <td>divide</td>\n",
       "      <td>transform</td>\n",
       "      <td>Creates a transform feature that divides two f...</td>\n",
       "    </tr>\n",
       "    <tr>\n",
       "      <th>26</th>\n",
       "      <td>cum_sum</td>\n",
       "      <td>transform</td>\n",
       "      <td>Calculates the sum of previous values of an in...</td>\n",
       "    </tr>\n",
       "    <tr>\n",
       "      <th>27</th>\n",
       "      <td>hour</td>\n",
       "      <td>transform</td>\n",
       "      <td>Transform a Datetime feature into the hour.</td>\n",
       "    </tr>\n",
       "    <tr>\n",
       "      <th>28</th>\n",
       "      <td>not</td>\n",
       "      <td>transform</td>\n",
       "      <td>For each value of the base feature, negates th...</td>\n",
       "    </tr>\n",
       "    <tr>\n",
       "      <th>29</th>\n",
       "      <td>negate</td>\n",
       "      <td>transform</td>\n",
       "      <td>Creates a transform feature that negates a fea...</td>\n",
       "    </tr>\n",
       "    <tr>\n",
       "      <th>30</th>\n",
       "      <td>cum_mean</td>\n",
       "      <td>transform</td>\n",
       "      <td>Calculates the mean of previous values of an i...</td>\n",
       "    </tr>\n",
       "    <tr>\n",
       "      <th>31</th>\n",
       "      <td>latitude</td>\n",
       "      <td>transform</td>\n",
       "      <td>Returns the first value of the tuple base feat...</td>\n",
       "    </tr>\n",
       "    <tr>\n",
       "      <th>32</th>\n",
       "      <td>characters</td>\n",
       "      <td>transform</td>\n",
       "      <td>Return the characters in a given string.</td>\n",
       "    </tr>\n",
       "    <tr>\n",
       "      <th>33</th>\n",
       "      <td>haversine</td>\n",
       "      <td>transform</td>\n",
       "      <td>Calculate the approximate haversine distance i...</td>\n",
       "    </tr>\n",
       "    <tr>\n",
       "      <th>34</th>\n",
       "      <td>percentile</td>\n",
       "      <td>transform</td>\n",
       "      <td>For each value of the base feature, determines...</td>\n",
       "    </tr>\n",
       "    <tr>\n",
       "      <th>35</th>\n",
       "      <td>months</td>\n",
       "      <td>transform</td>\n",
       "      <td>Transform a Timedelta feature into the number ...</td>\n",
       "    </tr>\n",
       "    <tr>\n",
       "      <th>36</th>\n",
       "      <td>time_since_previous</td>\n",
       "      <td>transform</td>\n",
       "      <td>Compute the time since the previous instance.</td>\n",
       "    </tr>\n",
       "    <tr>\n",
       "      <th>37</th>\n",
       "      <td>multiply</td>\n",
       "      <td>transform</td>\n",
       "      <td>Creates a transform feature that multplies two...</td>\n",
       "    </tr>\n",
       "    <tr>\n",
       "      <th>38</th>\n",
       "      <td>cum_count</td>\n",
       "      <td>transform</td>\n",
       "      <td>Calculates the number of previous values of an...</td>\n",
       "    </tr>\n",
       "    <tr>\n",
       "      <th>39</th>\n",
       "      <td>day</td>\n",
       "      <td>transform</td>\n",
       "      <td>Transform a Datetime feature into the day.</td>\n",
       "    </tr>\n",
       "  </tbody>\n",
       "</table>\n",
       "</div>"
      ],
      "text/plain": [
       "                   name         type  \\\n",
       "0                   all  aggregation   \n",
       "1            num_unique  aggregation   \n",
       "2                  last  aggregation   \n",
       "3          percent_true  aggregation   \n",
       "4                median  aggregation   \n",
       "5                  mean  aggregation   \n",
       "6                  mode  aggregation   \n",
       "7                   std  aggregation   \n",
       "8                 trend  aggregation   \n",
       "9                 count  aggregation   \n",
       "10                  sum  aggregation   \n",
       "11                 skew  aggregation   \n",
       "12             num_true  aggregation   \n",
       "13                  min  aggregation   \n",
       "14     avg_time_between  aggregation   \n",
       "15                  max  aggregation   \n",
       "16      time_since_last  aggregation   \n",
       "17        n_most_common  aggregation   \n",
       "18                  any  aggregation   \n",
       "19                  and    transform   \n",
       "20              weekday    transform   \n",
       "21           days_since    transform   \n",
       "22              weekend    transform   \n",
       "23               minute    transform   \n",
       "24              minutes    transform   \n",
       "25               divide    transform   \n",
       "26              cum_sum    transform   \n",
       "27                 hour    transform   \n",
       "28                  not    transform   \n",
       "29               negate    transform   \n",
       "30             cum_mean    transform   \n",
       "31             latitude    transform   \n",
       "32           characters    transform   \n",
       "33            haversine    transform   \n",
       "34           percentile    transform   \n",
       "35               months    transform   \n",
       "36  time_since_previous    transform   \n",
       "37             multiply    transform   \n",
       "38            cum_count    transform   \n",
       "39                  day    transform   \n",
       "\n",
       "                                          description  \n",
       "0                      Test if all values are 'True'.  \n",
       "1   Returns the number of unique categorical varia...  \n",
       "2                             Returns the last value.  \n",
       "3   Finds the percent of 'True' values in a boolea...  \n",
       "4   Finds the median value of any feature with wel...  \n",
       "5    Computes the average value of a numeric feature.  \n",
       "6   Finds the most common element in a categorical...  \n",
       "7   Finds the standard deviation of a numeric feat...  \n",
       "8   Calculates the slope of the linear trend of va...  \n",
       "9               Counts the number of non null values.  \n",
       "10     Sums elements of a numeric or boolean feature.  \n",
       "11               Computes the skewness of a data set.  \n",
       "12    Finds the number of 'True' values in a boolean.  \n",
       "13  Finds the minimum non-null value of a numeric ...  \n",
       "14  Computes the average time between consecutive ...  \n",
       "15  Finds the maximum non-null value of a numeric ...  \n",
       "16                  Time since last related instance.  \n",
       "17  Finds the N most common elements in a categori...  \n",
       "18                       Test if any value is 'True'.  \n",
       "19  For two boolean values, determine if both valu...  \n",
       "20  Transform Datetime feature into the boolean of...  \n",
       "21  For each value of the base feature, compute th...  \n",
       "22  Transform Datetime feature into the boolean of...  \n",
       "23      Transform a Datetime feature into the minute.  \n",
       "24  Transform a Timedelta feature into the number ...  \n",
       "25  Creates a transform feature that divides two f...  \n",
       "26  Calculates the sum of previous values of an in...  \n",
       "27        Transform a Datetime feature into the hour.  \n",
       "28  For each value of the base feature, negates th...  \n",
       "29  Creates a transform feature that negates a fea...  \n",
       "30  Calculates the mean of previous values of an i...  \n",
       "31  Returns the first value of the tuple base feat...  \n",
       "32           Return the characters in a given string.  \n",
       "33  Calculate the approximate haversine distance i...  \n",
       "34  For each value of the base feature, determines...  \n",
       "35  Transform a Timedelta feature into the number ...  \n",
       "36      Compute the time since the previous instance.  \n",
       "37  Creates a transform feature that multplies two...  \n",
       "38  Calculates the number of previous values of an...  \n",
       "39         Transform a Datetime feature into the day.  "
      ]
     },
     "execution_count": 55,
     "metadata": {},
     "output_type": "execute_result"
    }
   ],
   "source": [
    "ft.list_primitives().head(40)"
   ]
  },
  {
   "cell_type": "code",
   "execution_count": 56,
   "metadata": {},
   "outputs": [
    {
     "data": {
      "text/plain": [
       "'Transform Datetime feature into the boolean of Weekend.'"
      ]
     },
     "execution_count": 56,
     "metadata": {},
     "output_type": "execute_result"
    }
   ],
   "source": [
    "ft.list_primitives().tail(40).loc[22].description"
   ]
  },
  {
   "cell_type": "code",
   "execution_count": null,
   "metadata": {},
   "outputs": [],
   "source": []
  },
  {
   "cell_type": "code",
   "execution_count": null,
   "metadata": {},
   "outputs": [],
   "source": []
  },
  {
   "cell_type": "code",
   "execution_count": null,
   "metadata": {},
   "outputs": [],
   "source": []
  },
  {
   "cell_type": "markdown",
   "metadata": {},
   "source": [
    "# Dev"
   ]
  },
  {
   "cell_type": "code",
   "execution_count": 57,
   "metadata": {},
   "outputs": [
    {
     "ename": "SyntaxError",
     "evalue": "'break' outside loop (<ipython-input-57-6aaf1f276005>, line 1)",
     "output_type": "error",
     "traceback": [
      "\u001b[1;36m  File \u001b[1;32m\"<ipython-input-57-6aaf1f276005>\"\u001b[1;36m, line \u001b[1;32m1\u001b[0m\n\u001b[1;33m    break\u001b[0m\n\u001b[1;37m         ^\u001b[0m\n\u001b[1;31mSyntaxError\u001b[0m\u001b[1;31m:\u001b[0m 'break' outside loop\n"
     ]
    }
   ],
   "source": [
    "break"
   ]
  },
  {
   "cell_type": "code",
   "execution_count": null,
   "metadata": {},
   "outputs": [],
   "source": [
    "ED.columns"
   ]
  },
  {
   "cell_type": "markdown",
   "metadata": {},
   "source": [
    "#### create and link day table - by adding a new df"
   ]
  },
  {
   "cell_type": "markdown",
   "metadata": {},
   "source": [
    "from core import create_timeseries_from_events"
   ]
  },
  {
   "cell_type": "markdown",
   "metadata": {},
   "source": [
    "ED.columns"
   ]
  },
  {
   "cell_type": "markdown",
   "metadata": {},
   "source": [
    "start = ED.tail(i).arrival.min().round('D')\n",
    "end = ED.tail(i).arrival.max().round('D')\n",
    "\n",
    "occED = create_timeseries_from_events(ED.tail(i),'arrival','time_leaving_dept_inc_cdu',col_to_split='admission_flag',start=start,end=end,freq='H')\n",
    "\n",
    "occED['EDocc_MEAN'] = occED.sum(axis=1) # make agg col"
   ]
  },
  {
   "cell_type": "markdown",
   "metadata": {},
   "source": [
    "occED['day'] = occED.index.round('D')"
   ]
  },
  {
   "cell_type": "markdown",
   "metadata": {},
   "source": [
    "occEDday = occED.groupby(['day']).mean()"
   ]
  },
  {
   "cell_type": "markdown",
   "metadata": {},
   "source": [
    "occEDday.index"
   ]
  },
  {
   "cell_type": "markdown",
   "metadata": {},
   "source": [
    "day = occEDday['EDocc_MEAN'].reset_index()"
   ]
  },
  {
   "cell_type": "markdown",
   "metadata": {},
   "source": [
    "day.head(2)"
   ]
  },
  {
   "cell_type": "markdown",
   "metadata": {},
   "source": [
    "#### add to es"
   ]
  },
  {
   "cell_type": "markdown",
   "metadata": {},
   "source": [
    "es = es.entity_from_dataframe(entity_id=\"days\",dataframe=day,\n",
    "                              index=\"day\",\n",
    "                              time_index=\"day\")"
   ]
  },
  {
   "cell_type": "markdown",
   "metadata": {},
   "source": [
    "new_relationship = ft.Relationship(es[\"days\"][\"day\"],\n",
    "                                   es[\"ED_atten\"][\"arr_date\"])\n",
    "\n",
    "es = es.add_relationship(new_relationship)"
   ]
  },
  {
   "cell_type": "markdown",
   "metadata": {},
   "source": [
    "#### Look at tables"
   ]
  },
  {
   "cell_type": "code",
   "execution_count": null,
   "metadata": {},
   "outputs": [],
   "source": [
    "es['days'].df.head()"
   ]
  },
  {
   "cell_type": "markdown",
   "metadata": {},
   "source": [
    "es['days'].df['day'].head()"
   ]
  },
  {
   "cell_type": "markdown",
   "metadata": {},
   "source": [
    "es['days'].df['day'].dtype"
   ]
  },
  {
   "cell_type": "markdown",
   "metadata": {},
   "source": [
    "es['ED_atten'].index"
   ]
  },
  {
   "cell_type": "markdown",
   "metadata": {},
   "source": [
    "es['ED_atten'].df.arrival.dtype"
   ]
  },
  {
   "cell_type": "markdown",
   "metadata": {},
   "source": [
    "es['patient'].df.columns #.dtype"
   ]
  },
  {
   "cell_type": "markdown",
   "metadata": {},
   "source": [
    "es['patient'].df['first_ED_atten_time'].dtype"
   ]
  },
  {
   "cell_type": "code",
   "execution_count": null,
   "metadata": {},
   "outputs": [],
   "source": [
    "es['ED_atten']"
   ]
  },
  {
   "cell_type": "code",
   "execution_count": null,
   "metadata": {},
   "outputs": [],
   "source": [
    "es['patient']"
   ]
  },
  {
   "cell_type": "code",
   "execution_count": null,
   "metadata": {},
   "outputs": [],
   "source": [
    "es['days']"
   ]
  },
  {
   "cell_type": "markdown",
   "metadata": {},
   "source": [
    "es['days']"
   ]
  },
  {
   "cell_type": "code",
   "execution_count": null,
   "metadata": {},
   "outputs": [],
   "source": [
    "es"
   ]
  },
  {
   "cell_type": "markdown",
   "metadata": {},
   "source": [
    "# DFS"
   ]
  },
  {
   "cell_type": "markdown",
   "metadata": {},
   "source": [
    "### create range of datetimes for arrival in df"
   ]
  },
  {
   "cell_type": "code",
   "execution_count": null,
   "metadata": {},
   "outputs": [],
   "source": [
    "feature_matrix, feature_defs = ft.dfs(entityset=es,target_entity=\"days\")"
   ]
  },
  {
   "cell_type": "code",
   "execution_count": null,
   "metadata": {},
   "outputs": [],
   "source": [
    "feature_matrix"
   ]
  },
  {
   "cell_type": "code",
   "execution_count": null,
   "metadata": {},
   "outputs": [],
   "source": [
    "window_fm, window_features = ft.dfs(entityset=es,target_entity='days',cutoff_time=ct,\n",
    "       cutoff_time_in_index=True,\n",
    "      training_window = '24 hours')"
   ]
  },
  {
   "cell_type": "code",
   "execution_count": null,
   "metadata": {},
   "outputs": [],
   "source": []
  },
  {
   "cell_type": "code",
   "execution_count": null,
   "metadata": {},
   "outputs": [],
   "source": []
  },
  {
   "cell_type": "code",
   "execution_count": null,
   "metadata": {},
   "outputs": [],
   "source": [
    "pd.DatetimeIndex(start=start,end=end,freq='D')"
   ]
  },
  {
   "cell_type": "code",
   "execution_count": null,
   "metadata": {},
   "outputs": [],
   "source": [
    "ft.list_primitives().head(40)"
   ]
  },
  {
   "cell_type": "code",
   "execution_count": null,
   "metadata": {},
   "outputs": [],
   "source": []
  },
  {
   "cell_type": "code",
   "execution_count": null,
   "metadata": {},
   "outputs": [],
   "source": []
  }
 ],
 "metadata": {
  "kernelspec": {
   "display_name": "Python 3",
   "language": "python",
   "name": "python3"
  },
  "language_info": {
   "codemirror_mode": {
    "name": "ipython",
    "version": 3
   },
   "file_extension": ".py",
   "mimetype": "text/x-python",
   "name": "python",
   "nbconvert_exporter": "python",
   "pygments_lexer": "ipython3",
   "version": "3.6.3"
  }
 },
 "nbformat": 4,
 "nbformat_minor": 2
}
